{
 "cells": [
  {
   "cell_type": "code",
   "execution_count": 1,
   "metadata": {},
   "outputs": [],
   "source": [
    "import pandas as pd\n",
    "import seaborn as sns\n",
    "import matplotlib.pyplot as plt"
   ]
  },
  {
   "cell_type": "code",
   "execution_count": 2,
   "metadata": {},
   "outputs": [],
   "source": [
    "train_df=pd.read_csv('train.csv')"
   ]
  },
  {
   "cell_type": "code",
   "execution_count": 3,
   "metadata": {},
   "outputs": [],
   "source": [
    "test_df=pd.read_csv('test.csv')"
   ]
  },
  {
   "cell_type": "code",
   "execution_count": 4,
   "metadata": {},
   "outputs": [
    {
     "data": {
      "text/html": [
       "<div>\n",
       "<style scoped>\n",
       "    .dataframe tbody tr th:only-of-type {\n",
       "        vertical-align: middle;\n",
       "    }\n",
       "\n",
       "    .dataframe tbody tr th {\n",
       "        vertical-align: top;\n",
       "    }\n",
       "\n",
       "    .dataframe thead th {\n",
       "        text-align: right;\n",
       "    }\n",
       "</style>\n",
       "<table border=\"1\" class=\"dataframe\">\n",
       "  <thead>\n",
       "    <tr style=\"text-align: right;\">\n",
       "      <th></th>\n",
       "      <th>PassengerId</th>\n",
       "      <th>Survived</th>\n",
       "      <th>Pclass</th>\n",
       "      <th>Name</th>\n",
       "      <th>Sex</th>\n",
       "      <th>Age</th>\n",
       "      <th>SibSp</th>\n",
       "      <th>Parch</th>\n",
       "      <th>Ticket</th>\n",
       "      <th>Fare</th>\n",
       "      <th>Cabin</th>\n",
       "      <th>Embarked</th>\n",
       "    </tr>\n",
       "  </thead>\n",
       "  <tbody>\n",
       "    <tr>\n",
       "      <th>0</th>\n",
       "      <td>1</td>\n",
       "      <td>0</td>\n",
       "      <td>3</td>\n",
       "      <td>Braund, Mr. Owen Harris</td>\n",
       "      <td>male</td>\n",
       "      <td>22.0</td>\n",
       "      <td>1</td>\n",
       "      <td>0</td>\n",
       "      <td>A/5 21171</td>\n",
       "      <td>7.2500</td>\n",
       "      <td>NaN</td>\n",
       "      <td>S</td>\n",
       "    </tr>\n",
       "    <tr>\n",
       "      <th>1</th>\n",
       "      <td>2</td>\n",
       "      <td>1</td>\n",
       "      <td>1</td>\n",
       "      <td>Cumings, Mrs. John Bradley (Florence Briggs Th...</td>\n",
       "      <td>female</td>\n",
       "      <td>38.0</td>\n",
       "      <td>1</td>\n",
       "      <td>0</td>\n",
       "      <td>PC 17599</td>\n",
       "      <td>71.2833</td>\n",
       "      <td>C85</td>\n",
       "      <td>C</td>\n",
       "    </tr>\n",
       "    <tr>\n",
       "      <th>2</th>\n",
       "      <td>3</td>\n",
       "      <td>1</td>\n",
       "      <td>3</td>\n",
       "      <td>Heikkinen, Miss. Laina</td>\n",
       "      <td>female</td>\n",
       "      <td>26.0</td>\n",
       "      <td>0</td>\n",
       "      <td>0</td>\n",
       "      <td>STON/O2. 3101282</td>\n",
       "      <td>7.9250</td>\n",
       "      <td>NaN</td>\n",
       "      <td>S</td>\n",
       "    </tr>\n",
       "    <tr>\n",
       "      <th>3</th>\n",
       "      <td>4</td>\n",
       "      <td>1</td>\n",
       "      <td>1</td>\n",
       "      <td>Futrelle, Mrs. Jacques Heath (Lily May Peel)</td>\n",
       "      <td>female</td>\n",
       "      <td>35.0</td>\n",
       "      <td>1</td>\n",
       "      <td>0</td>\n",
       "      <td>113803</td>\n",
       "      <td>53.1000</td>\n",
       "      <td>C123</td>\n",
       "      <td>S</td>\n",
       "    </tr>\n",
       "    <tr>\n",
       "      <th>4</th>\n",
       "      <td>5</td>\n",
       "      <td>0</td>\n",
       "      <td>3</td>\n",
       "      <td>Allen, Mr. William Henry</td>\n",
       "      <td>male</td>\n",
       "      <td>35.0</td>\n",
       "      <td>0</td>\n",
       "      <td>0</td>\n",
       "      <td>373450</td>\n",
       "      <td>8.0500</td>\n",
       "      <td>NaN</td>\n",
       "      <td>S</td>\n",
       "    </tr>\n",
       "  </tbody>\n",
       "</table>\n",
       "</div>"
      ],
      "text/plain": [
       "   PassengerId  Survived  Pclass  \\\n",
       "0            1         0       3   \n",
       "1            2         1       1   \n",
       "2            3         1       3   \n",
       "3            4         1       1   \n",
       "4            5         0       3   \n",
       "\n",
       "                                                Name     Sex   Age  SibSp  \\\n",
       "0                            Braund, Mr. Owen Harris    male  22.0      1   \n",
       "1  Cumings, Mrs. John Bradley (Florence Briggs Th...  female  38.0      1   \n",
       "2                             Heikkinen, Miss. Laina  female  26.0      0   \n",
       "3       Futrelle, Mrs. Jacques Heath (Lily May Peel)  female  35.0      1   \n",
       "4                           Allen, Mr. William Henry    male  35.0      0   \n",
       "\n",
       "   Parch            Ticket     Fare Cabin Embarked  \n",
       "0      0         A/5 21171   7.2500   NaN        S  \n",
       "1      0          PC 17599  71.2833   C85        C  \n",
       "2      0  STON/O2. 3101282   7.9250   NaN        S  \n",
       "3      0            113803  53.1000  C123        S  \n",
       "4      0            373450   8.0500   NaN        S  "
      ]
     },
     "execution_count": 4,
     "metadata": {},
     "output_type": "execute_result"
    }
   ],
   "source": [
    "train_df.head()"
   ]
  },
  {
   "cell_type": "code",
   "execution_count": 5,
   "metadata": {},
   "outputs": [
    {
     "name": "stdout",
     "output_type": "stream",
     "text": [
      "<class 'pandas.core.frame.DataFrame'>\n",
      "RangeIndex: 891 entries, 0 to 890\n",
      "Data columns (total 12 columns):\n",
      "PassengerId    891 non-null int64\n",
      "Survived       891 non-null int64\n",
      "Pclass         891 non-null int64\n",
      "Name           891 non-null object\n",
      "Sex            891 non-null object\n",
      "Age            714 non-null float64\n",
      "SibSp          891 non-null int64\n",
      "Parch          891 non-null int64\n",
      "Ticket         891 non-null object\n",
      "Fare           891 non-null float64\n",
      "Cabin          204 non-null object\n",
      "Embarked       889 non-null object\n",
      "dtypes: float64(2), int64(5), object(5)\n",
      "memory usage: 83.6+ KB\n"
     ]
    }
   ],
   "source": [
    "train_df.info()"
   ]
  },
  {
   "cell_type": "code",
   "execution_count": 6,
   "metadata": {},
   "outputs": [
    {
     "data": {
      "text/plain": [
       "(891, 12)"
      ]
     },
     "execution_count": 6,
     "metadata": {},
     "output_type": "execute_result"
    }
   ],
   "source": [
    "train_df.shape"
   ]
  },
  {
   "cell_type": "code",
   "execution_count": 7,
   "metadata": {},
   "outputs": [],
   "source": [
    "cols=list(train_df.columns)"
   ]
  },
  {
   "cell_type": "code",
   "execution_count": 8,
   "metadata": {},
   "outputs": [
    {
     "data": {
      "text/plain": [
       "['PassengerId',\n",
       " 'Survived',\n",
       " 'Pclass',\n",
       " 'Name',\n",
       " 'Sex',\n",
       " 'Age',\n",
       " 'SibSp',\n",
       " 'Parch',\n",
       " 'Ticket',\n",
       " 'Fare',\n",
       " 'Cabin',\n",
       " 'Embarked']"
      ]
     },
     "execution_count": 8,
     "metadata": {},
     "output_type": "execute_result"
    }
   ],
   "source": [
    "cols"
   ]
  },
  {
   "cell_type": "code",
   "execution_count": 9,
   "metadata": {},
   "outputs": [
    {
     "data": {
      "text/plain": [
       "dtype('int64')"
      ]
     },
     "execution_count": 9,
     "metadata": {},
     "output_type": "execute_result"
    }
   ],
   "source": [
    "train_df['Pclass'].dtypes"
   ]
  },
  {
   "cell_type": "code",
   "execution_count": 10,
   "metadata": {},
   "outputs": [],
   "source": []
  },
  {
   "cell_type": "code",
   "execution_count": 11,
   "metadata": {},
   "outputs": [
    {
     "data": {
      "text/plain": [
       "['Name', 'Sex', 'Ticket', 'Cabin', 'Embarked']"
      ]
     },
     "execution_count": 11,
     "metadata": {},
     "output_type": "execute_result"
    }
   ],
   "source": [
    "cat_var"
   ]
  },
  {
   "cell_type": "code",
   "execution_count": 12,
   "metadata": {},
   "outputs": [],
   "source": []
  },
  {
   "cell_type": "code",
   "execution_count": 13,
   "metadata": {},
   "outputs": [
    {
     "data": {
      "text/plain": [
       "['PassengerId', 'Survived', 'Pclass', 'Age', 'SibSp', 'Parch', 'Fare']"
      ]
     },
     "execution_count": 13,
     "metadata": {},
     "output_type": "execute_result"
    }
   ],
   "source": [
    "num_col"
   ]
  },
  {
   "cell_type": "code",
   "execution_count": 14,
   "metadata": {},
   "outputs": [
    {
     "data": {
      "text/plain": [
       "PassengerId      0\n",
       "Survived         0\n",
       "Pclass           0\n",
       "Name             0\n",
       "Sex              0\n",
       "Age            177\n",
       "SibSp            0\n",
       "Parch            0\n",
       "Ticket           0\n",
       "Fare             0\n",
       "Cabin          687\n",
       "Embarked         2\n",
       "dtype: int64"
      ]
     },
     "execution_count": 14,
     "metadata": {},
     "output_type": "execute_result"
    }
   ],
   "source": [
    "train_df.isnull().sum()"
   ]
  },
  {
   "cell_type": "code",
   "execution_count": 15,
   "metadata": {},
   "outputs": [
    {
     "data": {
      "text/plain": [
       "PassengerId      0\n",
       "Pclass           0\n",
       "Name             0\n",
       "Sex              0\n",
       "Age             86\n",
       "SibSp            0\n",
       "Parch            0\n",
       "Ticket           0\n",
       "Fare             1\n",
       "Cabin          327\n",
       "Embarked         0\n",
       "dtype: int64"
      ]
     },
     "execution_count": 15,
     "metadata": {},
     "output_type": "execute_result"
    }
   ],
   "source": [
    "test_df.isnull().sum()"
   ]
  },
  {
   "cell_type": "code",
   "execution_count": 16,
   "metadata": {},
   "outputs": [
    {
     "data": {
      "text/plain": [
       "<matplotlib.axes._subplots.AxesSubplot at 0x1ba15cd4f60>"
      ]
     },
     "execution_count": 16,
     "metadata": {},
     "output_type": "execute_result"
    },
    {
     "data": {
      "image/png": "[encoded data removed]",
      "text/plain": [
       "<Figure size 432x288 with 1 Axes>"
      ]
     },
     "metadata": {},
     "output_type": "display_data"
    }
   ],
   "source": [
    "sns.heatmap(train_df.isnull(),yticklabels=False,cbar=False,cmap='viridis')"
   ]
  },
  {
   "cell_type": "code",
   "execution_count": 17,
   "metadata": {},
   "outputs": [
    {
     "data": {
      "text/plain": [
       "PassengerId    891\n",
       "Survived         2\n",
       "Pclass           3\n",
       "Age             88\n",
       "SibSp            7\n",
       "Parch            7\n",
       "Fare           248\n",
       "dtype: int64"
      ]
     },
     "execution_count": 17,
     "metadata": {},
     "output_type": "execute_result"
    }
   ],
   "source": [
    "train_df[num_col].nunique()"
   ]
  },
  {
   "cell_type": "code",
   "execution_count": 18,
   "metadata": {},
   "outputs": [
    {
     "data": {
      "text/plain": [
       "Name        891\n",
       "Sex           2\n",
       "Ticket      681\n",
       "Cabin       147\n",
       "Embarked      3\n",
       "dtype: int64"
      ]
     },
     "execution_count": 18,
     "metadata": {},
     "output_type": "execute_result"
    }
   ],
   "source": [
    "train_df[cat_var].nunique()"
   ]
  },
  {
   "cell_type": "markdown",
   "metadata": {},
   "source": [
    "#Missin Value"
   ]
  },
  {
   "cell_type": "code",
   "execution_count": 19,
   "metadata": {},
   "outputs": [
    {
     "data": {
      "text/html": [
       "<div>\n",
       "<style scoped>\n",
       "    .dataframe tbody tr th:only-of-type {\n",
       "        vertical-align: middle;\n",
       "    }\n",
       "\n",
       "    .dataframe tbody tr th {\n",
       "        vertical-align: top;\n",
       "    }\n",
       "\n",
       "    .dataframe thead th {\n",
       "        text-align: right;\n",
       "    }\n",
       "</style>\n",
       "<table border=\"1\" class=\"dataframe\">\n",
       "  <thead>\n",
       "    <tr style=\"text-align: right;\">\n",
       "      <th></th>\n",
       "      <th>PassengerId</th>\n",
       "      <th>Pclass</th>\n",
       "      <th>Name</th>\n",
       "      <th>Sex</th>\n",
       "      <th>Age</th>\n",
       "      <th>SibSp</th>\n",
       "      <th>Parch</th>\n",
       "      <th>Ticket</th>\n",
       "      <th>Fare</th>\n",
       "      <th>Cabin</th>\n",
       "      <th>Embarked</th>\n",
       "    </tr>\n",
       "  </thead>\n",
       "  <tbody>\n",
       "    <tr>\n",
       "      <th>152</th>\n",
       "      <td>1044</td>\n",
       "      <td>3</td>\n",
       "      <td>Storey, Mr. Thomas</td>\n",
       "      <td>male</td>\n",
       "      <td>60.5</td>\n",
       "      <td>0</td>\n",
       "      <td>0</td>\n",
       "      <td>3701</td>\n",
       "      <td>NaN</td>\n",
       "      <td>NaN</td>\n",
       "      <td>S</td>\n",
       "    </tr>\n",
       "  </tbody>\n",
       "</table>\n",
       "</div>"
      ],
      "text/plain": [
       "     PassengerId  Pclass                Name   Sex   Age  SibSp  Parch Ticket  \\\n",
       "152         1044       3  Storey, Mr. Thomas  male  60.5      0      0   3701   \n",
       "\n",
       "     Fare Cabin Embarked  \n",
       "152   NaN   NaN        S  "
      ]
     },
     "execution_count": 19,
     "metadata": {},
     "output_type": "execute_result"
    }
   ],
   "source": [
    "test_df[test_df['Fare'].isnull()]"
   ]
  },
  {
   "cell_type": "markdown",
   "metadata": {},
   "source": [
    "Only 1 NAn value with PClass 3 and Sex male and Embarked S"
   ]
  },
  {
   "cell_type": "code",
   "execution_count": 20,
   "metadata": {},
   "outputs": [],
   "source": [
    "test_df['Fare'].fillna(test_df[(test_df['Pclass']==3)&(test_df['Sex']=='male')&(test_df['Embarked']=='S')]['Fare'].median(),inplace=True)"
   ]
  },
  {
   "cell_type": "code",
   "execution_count": 21,
   "metadata": {},
   "outputs": [
    {
     "data": {
      "text/plain": [
       "PassengerId                  1044\n",
       "Pclass                          3\n",
       "Name           Storey, Mr. Thomas\n",
       "Sex                          male\n",
       "Age                          60.5\n",
       "SibSp                           0\n",
       "Parch                           0\n",
       "Ticket                       3701\n",
       "Fare                       7.9875\n",
       "Cabin                         NaN\n",
       "Embarked                        S\n",
       "Name: 152, dtype: object"
      ]
     },
     "execution_count": 21,
     "metadata": {},
     "output_type": "execute_result"
    }
   ],
   "source": [
    "test_df.loc[152,:]"
   ]
  },
  {
   "cell_type": "code",
   "execution_count": 22,
   "metadata": {},
   "outputs": [
    {
     "data": {
      "text/plain": [
       "array([nan, 'B', 'E', 'A', 'C', 'D', 'F', 'G'], dtype=object)"
      ]
     },
     "execution_count": 22,
     "metadata": {},
     "output_type": "execute_result"
    }
   ],
   "source": [
    "test_df['Cabin']=test_df[test_df['Cabin'].notnull()]['Cabin'].apply(lambda x: x[0])\n",
    "test_df['Cabin'].unique()"
   ]
  },
  {
   "cell_type": "code",
   "execution_count": 23,
   "metadata": {},
   "outputs": [],
   "source": [
    "a=lambda x: x[0]\n",
    "\n",
    "train_df['Cabin']=train_df[train_df['Cabin'].notnull()]['Cabin'].apply(lambda x: x[0])"
   ]
  },
  {
   "cell_type": "code",
   "execution_count": 24,
   "metadata": {},
   "outputs": [
    {
     "data": {
      "text/plain": [
       "array([nan, 'C', 'E', 'G', 'D', 'A', 'B', 'F', 'T'], dtype=object)"
      ]
     },
     "execution_count": 24,
     "metadata": {},
     "output_type": "execute_result"
    }
   ],
   "source": [
    "train_df['Cabin'].unique()"
   ]
  },
  {
   "cell_type": "markdown",
   "metadata": {},
   "source": [
    "All unique values of test_df is there in train_df"
   ]
  },
  {
   "cell_type": "code",
   "execution_count": 25,
   "metadata": {},
   "outputs": [],
   "source": [
    "train_df['Cabin'].fillna('Z',inplace=True)"
   ]
  },
  {
   "cell_type": "code",
   "execution_count": 26,
   "metadata": {},
   "outputs": [
    {
     "data": {
      "text/plain": [
       "array(['Z', 'C', 'E', 'G', 'D', 'A', 'B', 'F', 'T'], dtype=object)"
      ]
     },
     "execution_count": 26,
     "metadata": {},
     "output_type": "execute_result"
    }
   ],
   "source": [
    "train_df['Cabin'].unique()"
   ]
  },
  {
   "cell_type": "code",
   "execution_count": 27,
   "metadata": {},
   "outputs": [],
   "source": [
    "test_df['Cabin'].fillna('Z',inplace=True)"
   ]
  },
  {
   "cell_type": "code",
   "execution_count": 28,
   "metadata": {},
   "outputs": [
    {
     "data": {
      "text/plain": [
       "Z    687\n",
       "C     59\n",
       "B     47\n",
       "D     33\n",
       "E     32\n",
       "A     15\n",
       "F     13\n",
       "G      4\n",
       "T      1\n",
       "Name: Cabin, dtype: int64"
      ]
     },
     "execution_count": 28,
     "metadata": {},
     "output_type": "execute_result"
    }
   ],
   "source": [
    "train_df['Cabin'].value_counts()"
   ]
  },
  {
   "cell_type": "code",
   "execution_count": 29,
   "metadata": {},
   "outputs": [
    {
     "data": {
      "text/plain": [
       "PassengerId      0\n",
       "Survived         0\n",
       "Pclass           0\n",
       "Name             0\n",
       "Sex              0\n",
       "Age            177\n",
       "SibSp            0\n",
       "Parch            0\n",
       "Ticket           0\n",
       "Fare             0\n",
       "Cabin            0\n",
       "Embarked         2\n",
       "dtype: int64"
      ]
     },
     "execution_count": 29,
     "metadata": {},
     "output_type": "execute_result"
    }
   ],
   "source": [
    "train_df.isnull().sum()"
   ]
  },
  {
   "cell_type": "code",
   "execution_count": 30,
   "metadata": {},
   "outputs": [
    {
     "data": {
      "text/plain": [
       "PassengerId     0\n",
       "Pclass          0\n",
       "Name            0\n",
       "Sex             0\n",
       "Age            86\n",
       "SibSp           0\n",
       "Parch           0\n",
       "Ticket          0\n",
       "Fare            0\n",
       "Cabin           0\n",
       "Embarked        0\n",
       "dtype: int64"
      ]
     },
     "execution_count": 30,
     "metadata": {},
     "output_type": "execute_result"
    }
   ],
   "source": [
    "test_df.isnull().sum()"
   ]
  },
  {
   "cell_type": "code",
   "execution_count": 31,
   "metadata": {},
   "outputs": [
    {
     "data": {
      "text/html": [
       "<div>\n",
       "<style scoped>\n",
       "    .dataframe tbody tr th:only-of-type {\n",
       "        vertical-align: middle;\n",
       "    }\n",
       "\n",
       "    .dataframe tbody tr th {\n",
       "        vertical-align: top;\n",
       "    }\n",
       "\n",
       "    .dataframe thead th {\n",
       "        text-align: right;\n",
       "    }\n",
       "</style>\n",
       "<table border=\"1\" class=\"dataframe\">\n",
       "  <thead>\n",
       "    <tr style=\"text-align: right;\">\n",
       "      <th></th>\n",
       "      <th>PassengerId</th>\n",
       "      <th>Survived</th>\n",
       "      <th>Pclass</th>\n",
       "      <th>Name</th>\n",
       "      <th>Sex</th>\n",
       "      <th>Age</th>\n",
       "      <th>SibSp</th>\n",
       "      <th>Parch</th>\n",
       "      <th>Ticket</th>\n",
       "      <th>Fare</th>\n",
       "      <th>Cabin</th>\n",
       "      <th>Embarked</th>\n",
       "    </tr>\n",
       "  </thead>\n",
       "  <tbody>\n",
       "    <tr>\n",
       "      <th>61</th>\n",
       "      <td>62</td>\n",
       "      <td>1</td>\n",
       "      <td>1</td>\n",
       "      <td>Icard, Miss. Amelie</td>\n",
       "      <td>female</td>\n",
       "      <td>38.0</td>\n",
       "      <td>0</td>\n",
       "      <td>0</td>\n",
       "      <td>113572</td>\n",
       "      <td>80.0</td>\n",
       "      <td>B</td>\n",
       "      <td>NaN</td>\n",
       "    </tr>\n",
       "    <tr>\n",
       "      <th>829</th>\n",
       "      <td>830</td>\n",
       "      <td>1</td>\n",
       "      <td>1</td>\n",
       "      <td>Stone, Mrs. George Nelson (Martha Evelyn)</td>\n",
       "      <td>female</td>\n",
       "      <td>62.0</td>\n",
       "      <td>0</td>\n",
       "      <td>0</td>\n",
       "      <td>113572</td>\n",
       "      <td>80.0</td>\n",
       "      <td>B</td>\n",
       "      <td>NaN</td>\n",
       "    </tr>\n",
       "  </tbody>\n",
       "</table>\n",
       "</div>"
      ],
      "text/plain": [
       "     PassengerId  Survived  Pclass                                       Name  \\\n",
       "61            62         1       1                        Icard, Miss. Amelie   \n",
       "829          830         1       1  Stone, Mrs. George Nelson (Martha Evelyn)   \n",
       "\n",
       "        Sex   Age  SibSp  Parch  Ticket  Fare Cabin Embarked  \n",
       "61   female  38.0      0      0  113572  80.0     B      NaN  \n",
       "829  female  62.0      0      0  113572  80.0     B      NaN  "
      ]
     },
     "execution_count": 31,
     "metadata": {},
     "output_type": "execute_result"
    }
   ],
   "source": [
    "train_df[train_df['Embarked'].isnull()]"
   ]
  },
  {
   "cell_type": "code",
   "execution_count": 32,
   "metadata": {},
   "outputs": [
    {
     "data": {
      "text/plain": [
       "S    644\n",
       "C    168\n",
       "Q     77\n",
       "Name: Embarked, dtype: int64"
      ]
     },
     "execution_count": 32,
     "metadata": {},
     "output_type": "execute_result"
    }
   ],
   "source": [
    "train_df['Embarked'].value_counts()"
   ]
  },
  {
   "cell_type": "markdown",
   "metadata": {},
   "source": [
    "PassengerId 62 and 830 have missing embarked values\n",
    "\n",
    "Both have Passenger class 1 and fare $80."
   ]
  },
  {
   "cell_type": "code",
   "execution_count": 33,
   "metadata": {},
   "outputs": [
    {
     "data": {
      "text/plain": [
       "<matplotlib.axes._subplots.AxesSubplot at 0x1ba15c365f8>"
      ]
     },
     "execution_count": 33,
     "metadata": {},
     "output_type": "execute_result"
    },
    {
     "data": {
      "image/png": "[encoded data removed]",
      "text/plain": [
       "<Figure size 432x288 with 1 Axes>"
      ]
     },
     "metadata": {},
     "output_type": "display_data"
    }
   ],
   "source": [
    "sns.boxplot(x='Pclass',y='Fare',hue='Embarked',data=train_df)"
   ]
  },
  {
   "cell_type": "markdown",
   "metadata": {},
   "source": [
    "PClass 1 with median Fare 80 is having Embarked C"
   ]
  },
  {
   "cell_type": "code",
   "execution_count": 34,
   "metadata": {},
   "outputs": [],
   "source": [
    "train_df['Embarked'].fillna('C',inplace=True)"
   ]
  },
  {
   "cell_type": "code",
   "execution_count": 35,
   "metadata": {},
   "outputs": [
    {
     "data": {
      "text/plain": [
       "S    644\n",
       "C    170\n",
       "Q     77\n",
       "Name: Embarked, dtype: int64"
      ]
     },
     "execution_count": 35,
     "metadata": {},
     "output_type": "execute_result"
    }
   ],
   "source": [
    "train_df['Embarked'].value_counts()"
   ]
  },
  {
   "cell_type": "code",
   "execution_count": 36,
   "metadata": {},
   "outputs": [
    {
     "data": {
      "text/plain": [
       "PassengerId      0\n",
       "Survived         0\n",
       "Pclass           0\n",
       "Name             0\n",
       "Sex              0\n",
       "Age            177\n",
       "SibSp            0\n",
       "Parch            0\n",
       "Ticket           0\n",
       "Fare             0\n",
       "Cabin            0\n",
       "Embarked         0\n",
       "dtype: int64"
      ]
     },
     "execution_count": 36,
     "metadata": {},
     "output_type": "execute_result"
    }
   ],
   "source": [
    "train_df.isnull().sum()"
   ]
  },
  {
   "cell_type": "markdown",
   "metadata": {},
   "source": [
    "Instead of individual Siblings and parents, Make a combined column with name Family Size"
   ]
  },
  {
   "cell_type": "code",
   "execution_count": 37,
   "metadata": {},
   "outputs": [],
   "source": [
    "train_df['FamilySize']=train_df['SibSp']+ train_df['Parch']+1\n",
    "test_df['FamilySize']=test_df['SibSp']+ test_df['Parch']+1"
   ]
  },
  {
   "cell_type": "code",
   "execution_count": 38,
   "metadata": {},
   "outputs": [
    {
     "data": {
      "text/plain": [
       "0    2\n",
       "1    2\n",
       "2    1\n",
       "3    2\n",
       "4    1\n",
       "Name: FamilySize, dtype: int64"
      ]
     },
     "execution_count": 38,
     "metadata": {},
     "output_type": "execute_result"
    }
   ],
   "source": [
    "train_df['FamilySize'].head()"
   ]
  },
  {
   "cell_type": "markdown",
   "metadata": {},
   "source": [
    "Creating new Column named Family class(vsmall,small,medium,large) out of Family Size"
   ]
  },
  {
   "cell_type": "code",
   "execution_count": 39,
   "metadata": {},
   "outputs": [
    {
     "data": {
      "text/plain": [
       "1     537\n",
       "2     161\n",
       "3     102\n",
       "4      29\n",
       "6      22\n",
       "5      15\n",
       "7      12\n",
       "11      7\n",
       "8       6\n",
       "Name: FamilySize, dtype: int64"
      ]
     },
     "execution_count": 39,
     "metadata": {},
     "output_type": "execute_result"
    }
   ],
   "source": [
    "train_df.FamilySize.value_counts()"
   ]
  },
  {
   "cell_type": "code",
   "execution_count": 40,
   "metadata": {},
   "outputs": [],
   "source": [
    "def FamilyC(col):\n",
    "    if col>=0 and col < 2:\n",
    "        return 'vsmall'\n",
    "    elif col>=2 and col <5:\n",
    "        return 'small'\n",
    "    elif col>=5 and col <7:\n",
    "        return 'medium'\n",
    "    else:\n",
    "        return 'large'\n",
    "train_df['FamilyClass']=train_df['FamilySize'].apply(FamilyC)\n",
    "test_df['FamilyClass']=test_df['FamilySize'].apply(FamilyC)"
   ]
  },
  {
   "cell_type": "code",
   "execution_count": 41,
   "metadata": {},
   "outputs": [
    {
     "data": {
      "text/plain": [
       "vsmall    537\n",
       "small     292\n",
       "medium     37\n",
       "large      25\n",
       "Name: FamilyClass, dtype: int64"
      ]
     },
     "execution_count": 41,
     "metadata": {},
     "output_type": "execute_result"
    }
   ],
   "source": [
    "train_df.FamilyClass.value_counts()"
   ]
  },
  {
   "cell_type": "code",
   "execution_count": 42,
   "metadata": {},
   "outputs": [
    {
     "data": {
      "text/plain": [
       "vsmall    253\n",
       "small     145\n",
       "medium     10\n",
       "large      10\n",
       "Name: FamilyClass, dtype: int64"
      ]
     },
     "execution_count": 42,
     "metadata": {},
     "output_type": "execute_result"
    }
   ],
   "source": [
    "test_df.FamilyClass.value_counts()"
   ]
  },
  {
   "cell_type": "code",
   "execution_count": 43,
   "metadata": {},
   "outputs": [
    {
     "data": {
      "text/plain": [
       "Index(['PassengerId', 'Survived', 'Pclass', 'Name', 'Sex', 'Age', 'SibSp',\n",
       "       'Parch', 'Ticket', 'Fare', 'Cabin', 'Embarked', 'FamilySize',\n",
       "       'FamilyClass'],\n",
       "      dtype='object')"
      ]
     },
     "execution_count": 43,
     "metadata": {},
     "output_type": "execute_result"
    }
   ],
   "source": [
    "train_df.columns"
   ]
  },
  {
   "cell_type": "code",
   "execution_count": 44,
   "metadata": {},
   "outputs": [
    {
     "data": {
      "text/plain": [
       "891"
      ]
     },
     "execution_count": 44,
     "metadata": {},
     "output_type": "execute_result"
    }
   ],
   "source": [
    "train_df['Name'].nunique()"
   ]
  },
  {
   "cell_type": "markdown",
   "metadata": {},
   "source": [
    "Grabbing Important/rare titles from Names"
   ]
  },
  {
   "cell_type": "code",
   "execution_count": 45,
   "metadata": {},
   "outputs": [],
   "source": [
    "import re"
   ]
  },
  {
   "cell_type": "code",
   "execution_count": 46,
   "metadata": {},
   "outputs": [],
   "source": [
    "am=re.search('[a-zA-Z]+\\.',train_df.loc[2]['Name'])"
   ]
  },
  {
   "cell_type": "code",
   "execution_count": 47,
   "metadata": {},
   "outputs": [
    {
     "data": {
      "text/plain": [
       "'Miss.'"
      ]
     },
     "execution_count": 47,
     "metadata": {},
     "output_type": "execute_result"
    }
   ],
   "source": [
    "am.group(0)"
   ]
  },
  {
   "cell_type": "code",
   "execution_count": 48,
   "metadata": {},
   "outputs": [],
   "source": [
    "def grab_title(name):\n",
    "    myTitle=0\n",
    "    myTitle=re.search('[a-zA-Z]+\\.',name)\n",
    "    \n",
    "    if(myTitle):\n",
    "        return myTitle.group(0)\n",
    "    else:\n",
    "        return \"\"\n",
    "title=train_df['Name'].apply(grab_title)\n",
    "title_test=test_df['Name'].apply(grab_title)"
   ]
  },
  {
   "cell_type": "code",
   "execution_count": 49,
   "metadata": {},
   "outputs": [
    {
     "data": {
      "text/plain": [
       "Mr.          517\n",
       "Miss.        182\n",
       "Mrs.         125\n",
       "Master.       40\n",
       "Dr.            7\n",
       "Rev.           6\n",
       "Mlle.          2\n",
       "Major.         2\n",
       "Col.           2\n",
       "Jonkheer.      1\n",
       "Mme.           1\n",
       "Ms.            1\n",
       "Countess.      1\n",
       "Lady.          1\n",
       "Capt.          1\n",
       "Don.           1\n",
       "Sir.           1\n",
       "Name: Name, dtype: int64"
      ]
     },
     "execution_count": 49,
     "metadata": {},
     "output_type": "execute_result"
    }
   ],
   "source": [
    "title.value_counts()"
   ]
  },
  {
   "cell_type": "code",
   "execution_count": 50,
   "metadata": {},
   "outputs": [
    {
     "data": {
      "text/plain": [
       "418"
      ]
     },
     "execution_count": 50,
     "metadata": {},
     "output_type": "execute_result"
    }
   ],
   "source": [
    "title_test.count()"
   ]
  },
  {
   "cell_type": "code",
   "execution_count": 51,
   "metadata": {},
   "outputs": [],
   "source": [
    "my_dict={'Mlle.':'Miss.','Ms.':'Miss.','Mme.':'Mrs.','Mr.':'Mr.','Miss.':'Miss.','Mrs.':'Mrs.','Master.':'Master.',\n",
    "        'Dona.':'Rare', 'Lady.':'Rare', 'Countess.':'Rare','Capt.':'Rare', 'Col.':'Rare',\n",
    "         'Don.':'Rare', 'Dr.':'Rare', 'Major.':'Rare', 'Rev.':'Rare', 'Sir.':'Rare', 'Jonkheer.':'Rare'}"
   ]
  },
  {
   "cell_type": "code",
   "execution_count": 52,
   "metadata": {},
   "outputs": [],
   "source": [
    "rare_title=['Dona', 'Lady', 'Countess','Capt', 'Col', 'Don', 'Dr', 'Major', 'Rev', 'Sir', 'Jonkheer']\n",
    "ti=title.map(my_dict)\n",
    "ti_test=title_test.map(my_dict)\n",
    "#df_cat['mpg_level'] = df['mpg'].apply(lambda x: 'low' if x<17 else 'high' if x>29 else 'medium')\n"
   ]
  },
  {
   "cell_type": "code",
   "execution_count": 53,
   "metadata": {},
   "outputs": [
    {
     "data": {
      "text/plain": [
       "418"
      ]
     },
     "execution_count": 53,
     "metadata": {},
     "output_type": "execute_result"
    }
   ],
   "source": [
    "ti_test.count()"
   ]
  },
  {
   "cell_type": "code",
   "execution_count": 54,
   "metadata": {},
   "outputs": [],
   "source": [
    "train_df['Name_title']=ti\n",
    "test_df['Name_title']=ti_test"
   ]
  },
  {
   "cell_type": "code",
   "execution_count": 68,
   "metadata": {},
   "outputs": [
    {
     "name": "stdout",
     "output_type": "stream",
     "text": [
      "<class 'pandas.core.frame.DataFrame'>\n",
      "RangeIndex: 891 entries, 0 to 890\n",
      "Data columns (total 15 columns):\n",
      "PassengerId    891 non-null int64\n",
      "Survived       891 non-null int64\n",
      "Pclass         891 non-null int64\n",
      "Name           891 non-null object\n",
      "Sex            891 non-null int64\n",
      "Age            714 non-null float64\n",
      "SibSp          891 non-null int64\n",
      "Parch          891 non-null int64\n",
      "Ticket         891 non-null object\n",
      "Fare           891 non-null float64\n",
      "Cabin          891 non-null int64\n",
      "Embarked       891 non-null int64\n",
      "FamilySize     891 non-null int64\n",
      "FamilyClass    891 non-null int64\n",
      "Name_title     891 non-null int64\n",
      "dtypes: float64(2), int64(11), object(2)\n",
      "memory usage: 104.5+ KB\n"
     ]
    }
   ],
   "source": [
    "train_df.info()"
   ]
  },
  {
   "cell_type": "code",
   "execution_count": 56,
   "metadata": {},
   "outputs": [
    {
     "data": {
      "text/plain": [
       "681"
      ]
     },
     "execution_count": 56,
     "metadata": {},
     "output_type": "execute_result"
    }
   ],
   "source": [
    "train_df['Ticket'].nunique()"
   ]
  },
  {
   "cell_type": "code",
   "execution_count": 57,
   "metadata": {},
   "outputs": [],
   "source": [
    "nonrequire_cols=['PassengerId','Name','SibSp','Parch','Ticket','FamilySize']"
   ]
  },
  {
   "cell_type": "code",
   "execution_count": 71,
   "metadata": {},
   "outputs": [],
   "source": [
    "train_df.drop(nonrequire_cols,axis=1,inplace=True)"
   ]
  },
  {
   "cell_type": "code",
   "execution_count": 72,
   "metadata": {},
   "outputs": [
    {
     "name": "stdout",
     "output_type": "stream",
     "text": [
      "<class 'pandas.core.frame.DataFrame'>\n",
      "RangeIndex: 891 entries, 0 to 890\n",
      "Data columns (total 9 columns):\n",
      "Survived       891 non-null int64\n",
      "Pclass         891 non-null int64\n",
      "Sex            891 non-null int64\n",
      "Age            714 non-null float64\n",
      "Fare           891 non-null float64\n",
      "Cabin          891 non-null int64\n",
      "Embarked       891 non-null int64\n",
      "FamilyClass    891 non-null int64\n",
      "Name_title     891 non-null int64\n",
      "dtypes: float64(2), int64(7)\n",
      "memory usage: 62.7 KB\n"
     ]
    }
   ],
   "source": [
    "train_df.info()"
   ]
  },
  {
   "cell_type": "code",
   "execution_count": 60,
   "metadata": {},
   "outputs": [
    {
     "data": {
      "text/plain": [
       "vsmall    253\n",
       "small     145\n",
       "medium     10\n",
       "large      10\n",
       "Name: FamilyClass, dtype: int64"
      ]
     },
     "execution_count": 60,
     "metadata": {},
     "output_type": "execute_result"
    }
   ],
   "source": [
    "test_df.FamilyClass.value_counts()"
   ]
  },
  {
   "cell_type": "code",
   "execution_count": 61,
   "metadata": {},
   "outputs": [
    {
     "data": {
      "text/plain": [
       "vsmall    537\n",
       "small     292\n",
       "medium     37\n",
       "large      25\n",
       "Name: FamilyClass, dtype: int64"
      ]
     },
     "execution_count": 61,
     "metadata": {},
     "output_type": "execute_result"
    }
   ],
   "source": [
    "train_df.FamilyClass.value_counts()"
   ]
  },
  {
   "cell_type": "code",
   "execution_count": 62,
   "metadata": {},
   "outputs": [],
   "source": [
    "#sex=pd.get_dummies(data=train_df,columns=['Sex','Cabin','Embarked','FamilyClass','Name_title'],drop_first=True)\n",
    "from sklearn.preprocessing import LabelEncoder,OneHotEncoder\n",
    "\n",
    "labelEnc=LabelEncoder()\n",
    "\n",
    "cat_vars=['Sex','Cabin','Embarked','FamilyClass','Name_title']\n",
    "for col in cat_vars:\n",
    "    train_df[col]=labelEnc.fit_transform(train_df[col])\n",
    "    test_df[col]=labelEnc.fit_transform(test_df[col])\n"
   ]
  },
  {
   "cell_type": "code",
   "execution_count": 73,
   "metadata": {},
   "outputs": [
    {
     "data": {
      "text/html": [
       "<div>\n",
       "<style scoped>\n",
       "    .dataframe tbody tr th:only-of-type {\n",
       "        vertical-align: middle;\n",
       "    }\n",
       "\n",
       "    .dataframe tbody tr th {\n",
       "        vertical-align: top;\n",
       "    }\n",
       "\n",
       "    .dataframe thead th {\n",
       "        text-align: right;\n",
       "    }\n",
       "</style>\n",
       "<table border=\"1\" class=\"dataframe\">\n",
       "  <thead>\n",
       "    <tr style=\"text-align: right;\">\n",
       "      <th></th>\n",
       "      <th>Survived</th>\n",
       "      <th>Pclass</th>\n",
       "      <th>Sex</th>\n",
       "      <th>Age</th>\n",
       "      <th>Fare</th>\n",
       "      <th>Cabin</th>\n",
       "      <th>Embarked</th>\n",
       "      <th>FamilyClass</th>\n",
       "      <th>Name_title</th>\n",
       "    </tr>\n",
       "  </thead>\n",
       "  <tbody>\n",
       "    <tr>\n",
       "      <th>0</th>\n",
       "      <td>0</td>\n",
       "      <td>3</td>\n",
       "      <td>1</td>\n",
       "      <td>22.0</td>\n",
       "      <td>7.2500</td>\n",
       "      <td>8</td>\n",
       "      <td>2</td>\n",
       "      <td>2</td>\n",
       "      <td>2</td>\n",
       "    </tr>\n",
       "    <tr>\n",
       "      <th>1</th>\n",
       "      <td>1</td>\n",
       "      <td>1</td>\n",
       "      <td>0</td>\n",
       "      <td>38.0</td>\n",
       "      <td>71.2833</td>\n",
       "      <td>2</td>\n",
       "      <td>0</td>\n",
       "      <td>2</td>\n",
       "      <td>3</td>\n",
       "    </tr>\n",
       "    <tr>\n",
       "      <th>2</th>\n",
       "      <td>1</td>\n",
       "      <td>3</td>\n",
       "      <td>0</td>\n",
       "      <td>26.0</td>\n",
       "      <td>7.9250</td>\n",
       "      <td>8</td>\n",
       "      <td>2</td>\n",
       "      <td>3</td>\n",
       "      <td>1</td>\n",
       "    </tr>\n",
       "    <tr>\n",
       "      <th>3</th>\n",
       "      <td>1</td>\n",
       "      <td>1</td>\n",
       "      <td>0</td>\n",
       "      <td>35.0</td>\n",
       "      <td>53.1000</td>\n",
       "      <td>2</td>\n",
       "      <td>2</td>\n",
       "      <td>2</td>\n",
       "      <td>3</td>\n",
       "    </tr>\n",
       "    <tr>\n",
       "      <th>4</th>\n",
       "      <td>0</td>\n",
       "      <td>3</td>\n",
       "      <td>1</td>\n",
       "      <td>35.0</td>\n",
       "      <td>8.0500</td>\n",
       "      <td>8</td>\n",
       "      <td>2</td>\n",
       "      <td>3</td>\n",
       "      <td>2</td>\n",
       "    </tr>\n",
       "  </tbody>\n",
       "</table>\n",
       "</div>"
      ],
      "text/plain": [
       "   Survived  Pclass  Sex   Age     Fare  Cabin  Embarked  FamilyClass  \\\n",
       "0         0       3    1  22.0   7.2500      8         2            2   \n",
       "1         1       1    0  38.0  71.2833      2         0            2   \n",
       "2         1       3    0  26.0   7.9250      8         2            3   \n",
       "3         1       1    0  35.0  53.1000      2         2            2   \n",
       "4         0       3    1  35.0   8.0500      8         2            3   \n",
       "\n",
       "   Name_title  \n",
       "0           2  \n",
       "1           3  \n",
       "2           1  \n",
       "3           3  \n",
       "4           2  "
      ]
     },
     "execution_count": 73,
     "metadata": {},
     "output_type": "execute_result"
    }
   ],
   "source": [
    "#sex.head()\n",
    "train_df.head()"
   ]
  },
  {
   "cell_type": "markdown",
   "metadata": {},
   "source": [
    "Using Random Forst to predict missing ages"
   ]
  },
  {
   "cell_type": "code",
   "execution_count": null,
   "metadata": {},
   "outputs": [],
   "source": []
  },
  {
   "cell_type": "code",
   "execution_count": 64,
   "metadata": {},
   "outputs": [],
   "source": [
    "from sklearn.ensemble import RandomForestRegressor"
   ]
  },
  {
   "cell_type": "code",
   "execution_count": 74,
   "metadata": {},
   "outputs": [],
   "source": [
    "def fill_missing_age(df):\n",
    "    X_train_age=df[df['Age'].notnull()]\n",
    "    Y_train_age=X_train_age['Age']\n",
    "    X_train_age.drop('Age',axis=1,inplace=True)\n",
    "    \n",
    "    X_test_age=df[df['Age'].isnull()]\n",
    "    X_test_age.drop('Age',axis=1,inplace=True)\n",
    "    #print(X_test_age.count())\n",
    "    \n",
    "    \n",
    "    regr_mod=RandomForestRegressor(n_estimators=100, n_jobs=-1)\n",
    "    regr_mod.fit(X_train_age,Y_train_age)\n",
    "    pred_age=regr_mod.predict(X_test_age)\n",
    "    #print(len(pred_age))\n",
    "    #df[df['Age'].isnull()]['Age']=pd.Series(pred_age)\n",
    "    df.loc[ (df.Age.isnull()), 'Age' ]=pred_age\n",
    "    #X_test_age['Age']=pred_age\n",
    "    #print(df[df['Age'].isnull()]['Age'].head())\n",
    "    #print(df.head(10))\n",
    "    #print(X_test_age.head(10))\n",
    "    return df\n",
    "    \n",
    "    "
   ]
  },
  {
   "cell_type": "code",
   "execution_count": null,
   "metadata": {},
   "outputs": [],
   "source": [
    "test_df.shape"
   ]
  },
  {
   "cell_type": "code",
   "execution_count": null,
   "metadata": {},
   "outputs": [],
   "source": [
    "test_df[test_df['Age'].isnull()].head()"
   ]
  },
  {
   "cell_type": "code",
   "execution_count": 75,
   "metadata": {},
   "outputs": [
    {
     "name": "stderr",
     "output_type": "stream",
     "text": [
      "C:\\Users\\kunal\\Anaconda3\\lib\\site-packages\\pandas\\core\\frame.py:3694: SettingWithCopyWarning: \n",
      "A value is trying to be set on a copy of a slice from a DataFrame\n",
      "\n",
      "See the caveats in the documentation: http://pandas.pydata.org/pandas-docs/stable/indexing.html#indexing-view-versus-copy\n",
      "  errors=errors)\n",
      "C:\\Users\\kunal\\Anaconda3\\lib\\site-packages\\pandas\\core\\frame.py:3694: SettingWithCopyWarning: \n",
      "A value is trying to be set on a copy of a slice from a DataFrame\n",
      "\n",
      "See the caveats in the documentation: http://pandas.pydata.org/pandas-docs/stable/indexing.html#indexing-view-versus-copy\n",
      "  errors=errors)\n"
     ]
    }
   ],
   "source": [
    "test_df=fill_missing_age(test_df)\n",
    "train_df=fill_missing_age(train_df)"
   ]
  },
  {
   "cell_type": "code",
   "execution_count": 76,
   "metadata": {},
   "outputs": [
    {
     "data": {
      "text/plain": [
       "0"
      ]
     },
     "execution_count": 76,
     "metadata": {},
     "output_type": "execute_result"
    }
   ],
   "source": [
    "train_df['Age'].isnull().sum()"
   ]
  },
  {
   "cell_type": "code",
   "execution_count": 78,
   "metadata": {},
   "outputs": [
    {
     "data": {
      "text/plain": [
       "(418, 8)"
      ]
     },
     "execution_count": 78,
     "metadata": {},
     "output_type": "execute_result"
    }
   ],
   "source": [
    "test_df.shape"
   ]
  },
  {
   "cell_type": "code",
   "execution_count": 80,
   "metadata": {},
   "outputs": [
    {
     "name": "stdout",
     "output_type": "stream",
     "text": [
      "<class 'pandas.core.frame.DataFrame'>\n",
      "RangeIndex: 891 entries, 0 to 890\n",
      "Data columns (total 9 columns):\n",
      "Survived       891 non-null int64\n",
      "Pclass         891 non-null int64\n",
      "Sex            891 non-null int64\n",
      "Age            891 non-null float64\n",
      "Fare           891 non-null float64\n",
      "Cabin          891 non-null int64\n",
      "Embarked       891 non-null int64\n",
      "FamilyClass    891 non-null int64\n",
      "Name_title     891 non-null int64\n",
      "dtypes: float64(2), int64(7)\n",
      "memory usage: 62.7 KB\n"
     ]
    }
   ],
   "source": [
    "train_df.info()"
   ]
  },
  {
   "cell_type": "code",
   "execution_count": 79,
   "metadata": {},
   "outputs": [
    {
     "data": {
      "text/plain": [
       "array([[<matplotlib.axes._subplots.AxesSubplot object at 0x000001BA15DA9470>,\n",
       "        <matplotlib.axes._subplots.AxesSubplot object at 0x000001BA16CFAF28>,\n",
       "        <matplotlib.axes._subplots.AxesSubplot object at 0x000001BA16D2C5F8>],\n",
       "       [<matplotlib.axes._subplots.AxesSubplot object at 0x000001BA16D52C88>,\n",
       "        <matplotlib.axes._subplots.AxesSubplot object at 0x000001BA16D83358>,\n",
       "        <matplotlib.axes._subplots.AxesSubplot object at 0x000001BA16D83390>],\n",
       "       [<matplotlib.axes._subplots.AxesSubplot object at 0x000001BA16DDC048>,\n",
       "        <matplotlib.axes._subplots.AxesSubplot object at 0x000001BA16E046D8>,\n",
       "        <matplotlib.axes._subplots.AxesSubplot object at 0x000001BA16E2BD68>]], dtype=object)"
      ]
     },
     "execution_count": 79,
     "metadata": {},
     "output_type": "execute_result"
    },
    {
     "data": {
      "image/png": "[encoded data removed]",
      "text/plain": [
       "<Figure size 648x504 with 9 Axes>"
      ]
     },
     "metadata": {},
     "output_type": "display_data"
    }
   ],
   "source": [
    "train_df.hist(bins=10,figsize=(9,7),grid=False)"
   ]
  },
  {
   "cell_type": "code",
   "execution_count": 82,
   "metadata": {},
   "outputs": [
    {
     "data": {
      "text/plain": [
       "<seaborn.axisgrid.FacetGrid at 0x1ba16f03128>"
      ]
     },
     "execution_count": 82,
     "metadata": {},
     "output_type": "execute_result"
    },
    {
     "data": {
      "image/png": "[encoded data removed]",
      "text/plain": [
       "<Figure size 432x432 with 4 Axes>"
      ]
     },
     "metadata": {},
     "output_type": "display_data"
    }
   ],
   "source": [
    "g = sns.FacetGrid(train_df, col=\"Sex\", row=\"Survived\", margin_titles=True)\n",
    "g.map(plt.hist, \"Age\",color=\"purple\")"
   ]
  },
  {
   "cell_type": "code",
   "execution_count": 85,
   "metadata": {},
   "outputs": [],
   "source": [
    "cols=list(train_df.columns)\n",
    "cat_var=list(col for col in cols if train_df[col].dtypes=='object')\n",
    "num_col=list(col for col in cols if col not in cat_var)"
   ]
  },
  {
   "cell_type": "code",
   "execution_count": 89,
   "metadata": {},
   "outputs": [
    {
     "data": {
      "image/png": "[encoded data removed]",
      "text/plain": [
       "<Figure size 699.875x216 with 3 Axes>"
      ]
     },
     "metadata": {},
     "output_type": "display_data"
    }
   ],
   "source": [
    "g = sns.FacetGrid(train_df, hue=\"Survived\", col=\"Pclass\", margin_titles=True,\n",
    "                  palette={1:\"seagreen\", 0:\"gray\"})\n",
    "g=g.map(plt.scatter, \"Fare\", \"Age\",edgecolor=\"w\").add_legend();"
   ]
  },
  {
   "cell_type": "code",
   "execution_count": 95,
   "metadata": {},
   "outputs": [
    {
     "data": {
      "image/png": "[encoded data removed]",
      "text/plain": [
       "<Figure size 720x720 with 2 Axes>"
      ]
     },
     "metadata": {},
     "output_type": "display_data"
    }
   ],
   "source": [
    "plt.figure(figsize=(10, 10))\n",
    "corr=train_df.corr()\n",
    "sns.heatmap(corr,annot=True,cmap='YlGnBu',linecolor=\"white\")\n",
    "plt.title('Correlation between features');"
   ]
  },
  {
   "cell_type": "markdown",
   "metadata": {},
   "source": [
    "Age, Fare are measured on different scales, so we need to do Feature Scaling first before we proceed with predictions"
   ]
  },
  {
   "cell_type": "code",
   "execution_count": 96,
   "metadata": {},
   "outputs": [],
   "source": [
    "from sklearn.preprocessing import StandardScaler"
   ]
  },
  {
   "cell_type": "code",
   "execution_count": 99,
   "metadata": {},
   "outputs": [
    {
     "data": {
      "text/plain": [
       "StandardScaler(copy=True, with_mean=True, with_std=True)"
      ]
     },
     "execution_count": 99,
     "metadata": {},
     "output_type": "execute_result"
    }
   ],
   "source": [
    "std_scale=StandardScaler()\n",
    "std_scale.fit(train_df[['Age','Fare']])"
   ]
  },
  {
   "cell_type": "code",
   "execution_count": 100,
   "metadata": {},
   "outputs": [
    {
     "data": {
      "text/plain": [
       "array([[-0.55752713, -0.50244517],\n",
       "       [ 0.59498654,  0.78684529],\n",
       "       [-0.26939871, -0.48885426],\n",
       "       ..., \n",
       "       [-1.47653673, -0.17626324],\n",
       "       [-0.26939871, -0.04438104],\n",
       "       [ 0.16279391, -0.49237783]])"
      ]
     },
     "execution_count": 100,
     "metadata": {},
     "output_type": "execute_result"
    }
   ],
   "source": [
    "std_scale.transform(train_df[['Age','Fare']])"
   ]
  },
  {
   "cell_type": "code",
   "execution_count": 101,
   "metadata": {},
   "outputs": [
    {
     "data": {
      "text/plain": [
       "array([[  3.42874176e-01,  -4.90783161e-01],\n",
       "       [  1.24327548e+00,  -5.07478843e-01],\n",
       "       [  2.32375705e+00,  -4.53366871e-01],\n",
       "       [ -1.97366608e-01,  -4.74004926e-01],\n",
       "       [ -5.57527131e-01,  -4.01016685e-01],\n",
       "       [ -1.13378397e+00,  -4.62679164e-01],\n",
       "       [  1.87297059e-02,  -4.94810098e-01],\n",
       "       [ -2.69398712e-01,  -6.45157251e-02],\n",
       "       [ -8.45655549e-01,  -5.02863973e-01],\n",
       "       [ -6.29559235e-01,  -1.62168958e-01],\n",
       "       [ -9.22732085e-02,  -4.89442190e-01],\n",
       "       [  1.17124338e+00,  -1.24919787e-01],\n",
       "       [ -4.85495026e-01,   1.00799262e+00],\n",
       "       [  2.39578916e+00,  -1.24919787e-01],\n",
       "       [  1.24327548e+00,   5.83317835e-01],\n",
       "       [ -4.13462922e-01,  -9.02720170e-02],\n",
       "       [  3.78890229e-01,  -3.99758267e-01],\n",
       "       [ -6.29559235e-01,  -5.02948539e-01],\n",
       "       [ -1.97366608e-01,  -4.88854258e-01],\n",
       "       [  1.09921127e+00,  -5.02948539e-01],\n",
       "       [  1.81953232e+00,   5.47578765e-01],\n",
       "       [ -1.49394449e+00,  -5.84578587e-01],\n",
       "       [  1.34792956e+00,  -1.04883190e-02],\n",
       "       [ -6.29559235e-01,   5.87429338e-01],\n",
       "       [  1.31530759e+00,   4.63441690e+00],\n",
       "       [  1.45937180e+00,  -3.56468689e-01],\n",
       "       [ -5.57527131e-01,   5.99510151e-01],\n",
       "       [ -5.21511078e-01,  -5.02948539e-01],\n",
       "       [  8.11082856e-01,  -3.43136943e-02],\n",
       "       [ -3.02473454e-01,  -2.11917743e-01],\n",
       "       [  1.45937180e+00,  -1.24919787e-01],\n",
       "       [ -4.13462922e-01,  -1.41790072e-02],\n",
       "       [  2.34826020e-01,  -2.34150465e-01],\n",
       "       [ -2.52711275e-01,  -1.76263239e-01],\n",
       "       [  1.87297059e-02,   5.14356531e-01],\n",
       "       [ -8.09639497e-01,  -5.02863973e-01],\n",
       "       [ -5.72576695e-01,  -4.86337422e-01],\n",
       "       [ -6.29559235e-01,  -4.74004926e-01],\n",
       "       [ -3.41430817e-01,  -4.57142125e-01],\n",
       "       [ -5.77395986e-01,   4.89103607e-01],\n",
       "       [  6.67018647e-01,  -3.78280596e-01],\n",
       "       [  7.56698617e-01,  -1.13845709e-01],\n",
       "       [  8.11082856e-01,  -4.90364359e-01],\n",
       "       [  1.87297059e-02,  -3.86670720e-01],\n",
       "       [  1.09921127e+00,   4.09740724e-01],\n",
       "       [ -3.41430817e-01,  -4.88854258e-01],\n",
       "       [  1.09921127e+00,  -5.04214441e-02],\n",
       "       [ -5.12086878e-01,  -4.92377828e-01],\n",
       "       [  2.17969284e+00,   8.87687861e-01],\n",
       "       [  4.50922333e-01,  -3.28280127e-01],\n",
       "       [ -4.13462922e-01,   5.59659578e-01],\n",
       "       [ -1.97366608e-01,  -3.45730861e-01],\n",
       "       [ -7.01591340e-01,  -1.85323848e-01],\n",
       "       [ -1.25334503e-01,   4.64700108e+00],\n",
       "       [  5.09268338e-01,  -3.34739335e-01],\n",
       "       [ -1.42191239e+00,  -6.19988892e-02],\n",
       "       [  3.78890229e-01,  -4.89442190e-01],\n",
       "       [ -3.41430817e-01,  -4.94391297e-01],\n",
       "       [  2.41669069e-01,  -3.24253190e-01],\n",
       "       [  4.50922333e-01,   4.63441690e+00],\n",
       "       [ -9.17687654e-01,  -4.89442190e-01],\n",
       "       [  1.62793915e-01,  -3.76603377e-01],\n",
       "       [ -8.45655549e-01,  -4.92377828e-01],\n",
       "       [ -5.57527131e-01,  -4.92881195e-01],\n",
       "       [ -1.20581607e+00,   4.63441690e+00],\n",
       "       [ -1.71628851e-01,  -2.25593223e-01],\n",
       "       [ -8.45655549e-01,  -4.89776426e-01],\n",
       "       [  1.24327548e+00,   2.05289083e-01],\n",
       "       [  9.07618104e-02,  -7.38280180e-02],\n",
       "       [  2.17969284e+00,   4.64700108e+00],\n",
       "       [ -4.13462922e-01,  -4.92377828e-01],\n",
       "       [ -6.29559235e-01,  -4.89442190e-01],\n",
       "       [ -5.33023987e-02,  -4.88854258e-01],\n",
       "       [ -8.93184510e-02,  -9.02720170e-02],\n",
       "       [  3.78890229e-01,   3.61006469e+00],\n",
       "       [  1.98809967e-01,   3.61006469e+00],\n",
       "       [ -2.12266755e-01,  -4.86337422e-01],\n",
       "       [  1.81953232e+00,  -1.30960193e-01],\n",
       "       [  1.87297059e-02,  -3.86670720e-01],\n",
       "       [ -4.13462922e-01,  -4.92377828e-01],\n",
       "       [ -1.71004080e+00,  -3.41452240e-01],\n",
       "       [  2.68391757e+00,   3.81703316e+00],\n",
       "       [  1.38733969e+00,  -1.24919787e-01],\n",
       "       [ -9.22732085e-02,  -4.89442190e-01],\n",
       "       [  8.25422197e-01,  -4.32813383e-01],\n",
       "       [ -3.32786964e-01,  -3.57390858e-01],\n",
       "       [ -1.97366608e-01,  -4.89776426e-01],\n",
       "       [ -8.45655549e-01,  -4.86337422e-01],\n",
       "       [  7.39579721e-03,  -4.92377828e-01],\n",
       "       [ -1.99816922e+00,  -1.85323848e-01],\n",
       "       [ -5.57527131e-01,  -3.68549502e-01],\n",
       "       [ -3.24529648e-01,  -4.91874461e-01],\n",
       "       [ -1.97366608e-01,   3.98582080e-01],\n",
       "       [ -2.12266755e-01,  -4.86337422e-01],\n",
       "       [ -3.41430817e-01,  -1.24919787e-01],\n",
       "       [ -3.41430817e-01,  -4.91455659e-01],\n",
       "       [  3.33220652e+00,   9.39198431e-01],\n",
       "       [ -5.33023987e-02,  -4.88854258e-01],\n",
       "       [ -7.01591340e-01,  -4.90279793e-01],\n",
       "       [  2.34826020e-01,  -4.86337422e-01],\n",
       "       [  9.55147065e-01,   4.67879633e-01],\n",
       "       [ -1.97366608e-01,  -1.24919787e-01],\n",
       "       [ -5.12086878e-01,  -4.92377828e-01],\n",
       "       [ -2.69398712e-01,  -4.91874461e-01],\n",
       "       [ -9.89719758e-01,  -4.76940563e-01],\n",
       "       [ -1.25334503e-01,  -1.94887825e-01],\n",
       "       [ -6.29559235e-01,  -4.90952292e-01],\n",
       "       [ -5.12086878e-01,  -4.92377828e-01],\n",
       "       [ -5.20163517e-01,  -4.72998191e-01],\n",
       "       [ -8.09639497e-01,  -3.86670720e-01],\n",
       "       [  8.11082856e-01,  -3.45479177e-01],\n",
       "       [ -2.06711058e-01,  -4.91789895e-01],\n",
       "       [  4.50922333e-01,  -1.05708712e-02],\n",
       "       [ -8.09639497e-01,  -5.01774686e-01],\n",
       "       [  2.39578916e+00,   3.81703316e+00],\n",
       "       [ -8.45655549e-01,  -3.57390858e-01],\n",
       "       [ -3.10472837e-01,  -5.18804605e-01],\n",
       "       [ -2.07020133e+00,  -3.12172378e-01],\n",
       "       [  4.50922333e-01,   8.66546439e-01],\n",
       "       [ -5.33023987e-02,  -1.24919787e-01],\n",
       "       [ -1.27784818e+00,  -3.31300330e-01],\n",
       "       [ -1.95745886e-01,  -4.92377828e-01],\n",
       "       [  3.78890229e-01,   5.14356531e-01],\n",
       "       [ -1.25334503e-01,  -5.02445171e-01],\n",
       "       [ -5.12086878e-01,  -4.92377828e-01],\n",
       "       [ -9.17687654e-01,  -3.24253190e-01],\n",
       "       [ -5.57527131e-01,  -4.91455659e-01],\n",
       "       [ -1.63677695e+00,  -1.80290176e-01],\n",
       "       [  8.83114961e-01,  -3.86670720e-01],\n",
       "       [ -4.13462922e-01,  -4.86337422e-01],\n",
       "       [  1.62793915e-01,  -4.86337422e-01],\n",
       "       [  1.67546811e+00,  -7.45830687e-02],\n",
       "       [  2.18968666e-01,  -1.35657615e-01],\n",
       "       [ -6.55148418e-02,  -5.18804605e-01],\n",
       "       [  9.55147065e-01,  -4.89442190e-01],\n",
       "       [ -4.13462922e-01,  -4.90279793e-01],\n",
       "       [ -2.33382660e-01,  -5.02948539e-01],\n",
       "       [ -2.69398712e-01,  -3.86670720e-01],\n",
       "       [ -4.85495026e-01,  -4.86337422e-01],\n",
       "       [  7.39050752e-01,   2.95895176e-01],\n",
       "       [ -1.42191239e+00,   2.95895176e-01],\n",
       "       [  2.34826020e-01,   2.40299019e+00],\n",
       "       [  2.25172495e+00,   4.63441690e+00],\n",
       "       [ -1.25334503e-01,  -1.24919787e-01],\n",
       "       [  8.83114961e-01,  -1.13845709e-01],\n",
       "       [  9.07618104e-02,  -2.85997284e-01],\n",
       "       [  4.84777422e-01,   3.95813561e-01],\n",
       "       [ -5.57527131e-01,  -4.86337422e-01],\n",
       "       [  6.84712819e-01,  -1.13845709e-01],\n",
       "       [  1.87297059e-02,  -1.24919787e-01],\n",
       "       [ -4.85495026e-01,   1.02594470e+00],\n",
       "       [ -1.77785555e-01,  -4.89442190e-01],\n",
       "       [  2.21570890e+00,  -4.87595840e-01],\n",
       "       [  4.50922333e-01,  -4.03114719e-01],\n",
       "       [ -1.20581607e+00,  -1.64441595e-02],\n",
       "       [ -4.13462922e-01,  -4.96404765e-01],\n",
       "       [ -5.33023987e-02,   3.81703316e+00],\n",
       "       [ -4.85495026e-01,  -4.90279793e-01],\n",
       "       [  8.83114961e-01,  -1.13845709e-01],\n",
       "       [ -2.69398712e-01,  -3.71066338e-01],\n",
       "       [ -7.44987253e-01,  -4.92714077e-01],\n",
       "       [ -1.63800870e+00,  -3.41452240e-01],\n",
       "       [ -2.69398712e-01,  -3.76603377e-01],\n",
       "       [ -1.57353592e-01,  -5.07478843e-01],\n",
       "       [  8.11082856e-01,  -3.86670720e-01],\n",
       "       [ -2.69398712e-01,  -2.04955168e-01],\n",
       "       [  1.31530759e+00,   3.68295484e-01],\n",
       "       [ -8.45655549e-01,   4.37082185e-02],\n",
       "       [  1.51303572e+00,  -9.02720170e-02],\n",
       "       [ -5.57527131e-01,  -4.67964520e-01],\n",
       "       [ -2.66385369e-01,  -4.96404765e-01],\n",
       "       [ -1.97366608e-01,  -5.02948539e-01],\n",
       "       [ -4.85495026e-01,  -3.68549502e-01],\n",
       "       [ -6.00555165e-01,  -5.02863973e-01],\n",
       "       [  7.39050752e-01,  -1.64441595e-02],\n",
       "       [ -1.06175186e+00,   1.36831147e-01],\n",
       "       [ -7.01591340e-01,   9.15281006e-02],\n",
       "       [  1.74750022e+00,   4.67879633e-01],\n",
       "       [  4.50922333e-01,   1.36831147e-01],\n",
       "       [  2.46782126e+00,   1.02594470e+00],\n",
       "       [  1.87297059e-02,  -3.86670720e-01],\n",
       "       [  5.22954438e-01,   1.02594470e+00],\n",
       "       [ -8.45655549e-01,   4.20730236e-01],\n",
       "       [ -5.12086878e-01,  -4.92377828e-01],\n",
       "       [ -1.97366608e-01,   4.33533223e+00],\n",
       "       [  7.39050752e-01,  -3.26266659e-01],\n",
       "       [ -6.29559235e-01,  -2.25593223e-01],\n",
       "       [ -9.17687654e-01,  -4.86337422e-01],\n",
       "       [ -1.02512354e+00,   7.51945840e-01],\n",
       "       [  7.39050752e-01,  -3.86670720e-01],\n",
       "       [  3.06858124e-01,  -1.24919787e-01],\n",
       "       [  1.20128077e+00,  -1.24919787e-01],\n",
       "       [ -1.31386423e+00,  -3.56468689e-01],\n",
       "       [  2.25172495e+00,  -3.99758267e-01],\n",
       "       [ -1.56597659e+00,   5.95568003e-03],\n",
       "       [  2.34826020e-01,  -4.90279793e-01],\n",
       "       [ -1.71004080e+00,   2.05969377e+00],\n",
       "       [ -8.45655549e-01,  -4.91874461e-01],\n",
       "       [ -4.85495026e-01,  -4.37007438e-01],\n",
       "       [ -1.24365474e-01,  -4.85079004e-01],\n",
       "       [ -8.43014372e-01,  -3.36334002e-01],\n",
       "       [ -2.11846284e+00,  -3.58482158e-01],\n",
       "       [  1.24327548e+00,   3.93272305e+00],\n",
       "       [ -1.56597659e+00,  -1.24919787e-01],\n",
       "       [ -3.41430817e-01,  -4.37007438e-01],\n",
       "       [  1.45938403e-01,  -1.30120576e-01],\n",
       "       [  3.78890229e-01,  -4.92377828e-01],\n",
       "       [ -4.13462922e-01,  -4.37007438e-01],\n",
       "       [  2.34826020e-01,  -9.02720170e-02],\n",
       "       [ -3.41430817e-01,  -4.89442190e-01],\n",
       "       [  1.62793915e-01,  -1.94887825e-01],\n",
       "       [ -2.90612986e-01,  -5.06472109e-01],\n",
       "       [ -9.17687654e-01,   8.31477855e-01],\n",
       "       [  2.17969284e+00,  -1.24919787e-01],\n",
       "       [  5.94986542e-01,  -4.91874461e-01],\n",
       "       [  8.83114961e-01,   2.07302552e-01],\n",
       "       [ -5.08147408e-01,  -4.89776426e-01],\n",
       "       [  1.96359653e+00,   2.67111778e+00],\n",
       "       [  1.45937180e+00,   3.61006469e+00],\n",
       "       [ -2.12266755e-01,  -4.86337422e-01],\n",
       "       [  1.87297059e-02,  -3.69389118e-01],\n",
       "       [ -6.29559235e-01,  -4.86337422e-01],\n",
       "       [ -5.57527131e-01,  -4.37007438e-01],\n",
       "       [ -6.29559235e-01,  -4.91455659e-01],\n",
       "       [  1.67546811e+00,  -9.58090560e-02],\n",
       "       [ -4.45157048e-01,  -3.41452240e-01],\n",
       "       [ -4.85495026e-01,  -4.91455659e-01],\n",
       "       [  7.39579721e-03,  -4.92377828e-01],\n",
       "       [  7.75066804e-01,  -3.44387877e-01],\n",
       "       [  4.50922333e-01,  -3.86670720e-01],\n",
       "       [ -1.13378397e+00,   6.60333014e-01],\n",
       "       [ -6.29559235e-01,  -1.13845709e-01],\n",
       "       [ -6.29559235e-01,  -5.17630753e-01],\n",
       "       [ -1.60777897e-01,  -4.89776426e-01],\n",
       "       [  6.67018647e-01,   7.86845294e-01],\n",
       "       [ -7.01591340e-01,  -4.90279793e-01],\n",
       "       [  2.46782126e+00,   8.66713557e-01],\n",
       "       [ -7.01591340e-01,  -5.02948539e-01],\n",
       "       [ -8.45655549e-01,  -3.86670720e-01],\n",
       "       [  1.31530759e+00,   1.49441243e+00],\n",
       "       [  1.81953232e+00,  -9.02720170e-02],\n",
       "       [  1.09921127e+00,  -4.43810379e-02],\n",
       "       [  1.09921127e+00,   2.05969377e+00],\n",
       "       [ -1.85408953e-01,  -4.89609308e-01],\n",
       "       [ -1.56895872e+00,  -1.76263239e-01],\n",
       "       [  8.11082856e-01,   3.95813561e-01],\n",
       "       [ -5.57527131e-01,  -2.25593223e-01],\n",
       "       [  8.83114961e-01,   5.95568003e-03],\n",
       "       [ -5.33023987e-02,  -1.24919787e-01],\n",
       "       [ -2.65076786e-01,  -3.57390858e-01],\n",
       "       [ -2.07596390e+00,  -8.96840841e-02],\n",
       "       [ -7.01591340e-01,  -4.88854258e-01],\n",
       "       [ -1.97366608e-01,   2.10558475e+00],\n",
       "       [ -4.13462922e-01,  -4.60665696e-01],\n",
       "       [  1.98809967e-01,  -4.57142125e-01],\n",
       "       [ -2.66385369e-01,  -4.96404765e-01],\n",
       "       [ -5.12086878e-01,  -4.92377828e-01],\n",
       "       [ -1.25334503e-01,  -4.86337422e-01],\n",
       "       [ -7.73623444e-01,  -3.86670720e-01],\n",
       "       [ -6.29559235e-01,  -4.91874461e-01],\n",
       "       [  4.86938386e-01,  -2.98078096e-01],\n",
       "       [ -6.29559235e-01,  -4.90279793e-01],\n",
       "       [ -5.33023987e-02,  -1.85323848e-01],\n",
       "       [ -2.07020133e+00,  -4.03114719e-01],\n",
       "       [  1.87297059e-02,  -3.91956075e-01],\n",
       "       [ -9.22732085e-02,  -4.89442190e-01],\n",
       "       [  1.12604323e+00,  -6.48421654e-01],\n",
       "       [ -2.66385369e-01,  -4.96404765e-01],\n",
       "       [ -5.72576695e-01,  -4.86337422e-01],\n",
       "       [ -9.17687654e-01,  -4.74004926e-01],\n",
       "       [  1.17124338e+00,   8.66546439e-01],\n",
       "       [ -5.12086878e-01,  -4.92377828e-01],\n",
       "       [ -2.69398712e-01,   2.10558475e+00],\n",
       "       [ -1.38906575e+00,  -3.36334002e-01],\n",
       "       [ -4.56860744e-01,  -5.02948539e-01],\n",
       "       [ -7.01591340e-01,  -1.24919787e-01],\n",
       "       [ -1.25334503e-01,  -4.37007438e-01],\n",
       "       [  7.39050752e-01,  -1.24919787e-01],\n",
       "       [  1.87297059e-02,  -2.25593223e-01],\n",
       "       [ -5.57527131e-01,  -4.37007438e-01],\n",
       "       [ -4.85495026e-01,  -4.74004926e-01],\n",
       "       [ -2.08820935e+00,  -3.71066338e-01],\n",
       "       [  7.39579721e-03,  -4.92377828e-01],\n",
       "       [ -1.49394449e+00,  -3.41452240e-01],\n",
       "       [ -1.99816922e+00,  -2.41449289e-01],\n",
       "       [  4.50922333e-01,  -5.02445171e-01],\n",
       "       [  2.71193657e-01,  -5.02445171e-01],\n",
       "       [ -4.13462922e-01,   1.00799262e+00],\n",
       "       [ -4.41172129e-01,  -5.02863973e-01],\n",
       "       [ -2.12266755e-01,  -4.86337422e-01],\n",
       "       [  8.19294516e-01,   1.48911959e-01],\n",
       "       [  1.87297059e-02,  -5.08485578e-01],\n",
       "       [ -6.00555165e-01,  -5.02863973e-01],\n",
       "       [  1.67546811e+00,   9.99769611e-01],\n",
       "       [  4.50922333e-01,  -4.57142125e-01],\n",
       "       [ -2.69398712e-01,  -4.89442190e-01],\n",
       "       [ -2.07020133e+00,   1.88762532e-01],\n",
       "       [ -3.02473454e-01,  -2.11917743e-01],\n",
       "       [  1.87297059e-02,   2.67706613e-01],\n",
       "       [ -5.33023987e-02,  -4.90279793e-01],\n",
       "       [  1.62793915e-01,  -4.91874461e-01],\n",
       "       [ -1.29206229e-01,  -3.45479177e-01],\n",
       "       [  9.55147065e-01,  -2.25593223e-01],\n",
       "       [ -4.13462922e-01,  -4.74004926e-01],\n",
       "       [  7.39579721e-03,  -4.92377828e-01],\n",
       "       [  2.46782126e+00,  -1.13845709e-01],\n",
       "       [  1.87297059e-02,   2.40299019e+00],\n",
       "       [ -2.08244678e+00,  -4.60162328e-01],\n",
       "       [  1.81953232e+00,   1.23417160e+00],\n",
       "       [  1.09921127e+00,  -3.64355446e-01],\n",
       "       [ -8.45655549e-01,  -4.74004926e-01],\n",
       "       [ -5.57527131e-01,  -5.02948539e-01],\n",
       "       [ -4.16452031e-02,  -4.95901398e-01],\n",
       "       [  5.22954438e-01,  -4.92377828e-01],\n",
       "       [  1.81953232e+00,   2.08251241e+00],\n",
       "       [ -9.17687654e-01,  -4.92714077e-01],\n",
       "       [  1.96359653e+00,   2.30172882e+00],\n",
       "       [ -7.73623444e-01,  -4.37007438e-01],\n",
       "       [ -1.97366608e-01,  -4.90279793e-01],\n",
       "       [ -5.57527131e-01,  -1.41790072e-02],\n",
       "       [ -2.69398712e-01,  -4.91874461e-01],\n",
       "       [ -3.41430817e-01,  -5.02863973e-01],\n",
       "       [ -2.69398712e-01,  -3.86670720e-01],\n",
       "       [  2.34826020e-01,  -1.13845709e-01],\n",
       "       [  6.67018647e-01,   3.60679280e+00],\n",
       "       [ -4.85495026e-01,  -5.06472109e-01],\n",
       "       [ -1.27784818e+00,   1.36831147e-01],\n",
       "       [  1.17124338e+00,   9.46245572e-01],\n",
       "       [ -5.33023987e-02,  -1.24919787e-01],\n",
       "       [ -6.29559235e-01,  -3.86670720e-01],\n",
       "       [  1.31530759e+00,   9.15281006e-02],\n",
       "       [  6.67018647e-01,  -5.04214441e-02],\n",
       "       [ -4.56860744e-01,  -5.02948539e-01],\n",
       "       [ -7.73623444e-01,  -3.31467448e-01],\n",
       "       [ -1.97366608e-01,  -4.89442190e-01],\n",
       "       [  1.87297059e-02,  -1.24919787e-01],\n",
       "       [  1.62793915e-01,  -3.86670720e-01],\n",
       "       [  6.67018647e-01,  -5.02863973e-01],\n",
       "       [ -3.41430817e-01,  -1.41790072e-02],\n",
       "       [ -6.81746495e-01,  -5.02863973e-01],\n",
       "       [ -8.45655549e-01,  -4.37007438e-01],\n",
       "       [  1.62793915e-01,  -4.95816832e-01],\n",
       "       [  9.15421582e-02,   7.51945840e-01],\n",
       "       [  2.03562863e+00,   9.66716653e+00],\n",
       "       [ -1.56979430e+00,  -3.56468689e-01],\n",
       "       [ -9.89719758e-01,  -4.94391297e-01],\n",
       "       [ -2.69398712e-01,  -3.86670720e-01],\n",
       "       [  5.94986542e-01,  -5.02863973e-01],\n",
       "       [ -4.13462922e-01,  -3.76603377e-01],\n",
       "       [  9.07618104e-02,  -2.25593223e-01],\n",
       "       [  1.09921127e+00,   6.27277898e-01],\n",
       "       [ -3.41430817e-01,  -4.37007438e-01],\n",
       "       [ -8.45655549e-01,   8.31477855e-01],\n",
       "       [  1.38733969e+00,   6.60333014e-01],\n",
       "       [ -2.12998797e+00,  -2.34150465e-01],\n",
       "       [  1.45937180e+00,  -1.24919787e-01],\n",
       "       [  2.10766074e+00,   3.88095935e-01],\n",
       "       [ -1.85408953e-01,  -4.89776426e-01],\n",
       "       [ -5.12086878e-01,  -4.92377828e-01],\n",
       "       [  1.87297059e-02,  -3.35327268e-01],\n",
       "       [ -1.09776792e+00,   7.51945840e-01],\n",
       "       [ -4.13462922e-01,   9.66463381e-02],\n",
       "       [  9.07618104e-02,  -2.25593223e-01],\n",
       "       [ -1.97366608e-01,  -4.74004926e-01],\n",
       "       [ -3.41430817e-01,   4.67879633e-01],\n",
       "       [  1.38002866e-01,   7.51945840e-01],\n",
       "       [ -3.32786964e-01,  -3.57308306e-01],\n",
       "       [ -5.57527131e-01,   1.50673744e-01],\n",
       "       [  1.09921127e+00,   5.47578765e-01],\n",
       "       [ -5.33023987e-02,  -3.69389118e-01],\n",
       "       [ -6.29559235e-01,  -4.16872751e-01],\n",
       "       [  9.07618104e-02,   2.05969377e+00],\n",
       "       [  1.38733969e+00,  -6.48421654e-01],\n",
       "       [  1.02717917e+00,  -3.86670720e-01],\n",
       "       [  1.74750022e+00,   9.99769611e-01],\n",
       "       [  1.09921127e+00,   4.63441690e+00],\n",
       "       [ -5.57527131e-01,  -4.74004926e-01],\n",
       "       [ -6.29559235e-01,  -4.16872751e-01],\n",
       "       [  1.81953232e+00,   3.58312706e-01],\n",
       "       [ -1.78207291e+00,  -1.64441595e-02],\n",
       "       [ -5.12086878e-01,  -4.92377828e-01],\n",
       "       [ -2.69398712e-01,  -4.89776426e-01],\n",
       "       [  5.42283053e-01,  -3.56468689e-01],\n",
       "       [ -7.73623444e-01,  -3.24253190e-01],\n",
       "       [  3.86020492e-01,  -3.89187556e-01],\n",
       "       [ -4.13462922e-01,   6.60333014e-01],\n",
       "       [ -4.13462922e-01,  -4.91874461e-01],\n",
       "       [  1.96359653e+00,  -3.86670720e-01],\n",
       "       [ -6.29559235e-01,  -4.92377828e-01],\n",
       "       [ -1.71004080e+00,  -2.24083121e-01],\n",
       "       [ -4.85495026e-01,   1.23417160e+00],\n",
       "       [  1.53140390e+00,   1.44885022e-01],\n",
       "       [ -1.20581607e+00,  -2.40694238e-01],\n",
       "       [  1.24327548e+00,  -4.37007438e-01],\n",
       "       [ -5.33023987e-02,  -2.04955168e-01],\n",
       "       [ -8.45655549e-01,   5.59659578e-01],\n",
       "       [ -4.13462922e-01,  -5.02445171e-01],\n",
       "       [  1.31530759e+00,   9.46245572e-01],\n",
       "       [ -5.57527131e-01,  -4.91874461e-01],\n",
       "       [  9.07618104e-02,  -4.92714077e-01],\n",
       "       [  1.87297059e-02,   2.67111778e+00],\n",
       "       [  5.94986542e-01,  -2.25593223e-01],\n",
       "       [ -5.57527131e-01,   5.47578765e-01],\n",
       "       [ -9.17687654e-01,   2.99922113e-01],\n",
       "       [  9.55147065e-01,  -9.02720170e-02],\n",
       "       [ -7.01591340e-01,  -3.69304552e-01],\n",
       "       [ -4.85495026e-01,  -4.37007438e-01],\n",
       "       [  1.45937180e+00,   3.61006469e+00],\n",
       "       [ -5.79313412e-01,  -4.92965761e-01],\n",
       "       [ -1.92613712e+00,  -3.71066338e-01],\n",
       "       [  7.39579721e-03,  -4.92377828e-01],\n",
       "       [  5.22954438e-01,   1.16370019e+00],\n",
       "       [ -1.25334503e-01,  -4.91874461e-01],\n",
       "       [ -2.12266755e-01,  -4.86337422e-01],\n",
       "       [  6.67018647e-01,   1.54424578e+00],\n",
       "       [  6.31002595e-01,  -5.02445171e-01],\n",
       "       [ -2.12266755e-01,  -4.86337422e-01],\n",
       "       [ -1.60547900e+00,  -1.98244277e-01]])"
      ]
     },
     "execution_count": 101,
     "metadata": {},
     "output_type": "execute_result"
    }
   ],
   "source": [
    "std_scale.transform(test_df[['Age','Fare']])"
   ]
  },
  {
   "cell_type": "code",
   "execution_count": 102,
   "metadata": {},
   "outputs": [
    {
     "data": {
      "text/plain": [
       "Survived       1.000000\n",
       "Pclass        -0.338481\n",
       "Sex           -0.543351\n",
       "Age           -0.101695\n",
       "Fare           0.257307\n",
       "Cabin         -0.301116\n",
       "Embarked      -0.174199\n",
       "FamilyClass   -0.077333\n",
       "Name_title    -0.071174\n",
       "Name: Survived, dtype: float64"
      ]
     },
     "execution_count": 102,
     "metadata": {},
     "output_type": "execute_result"
    }
   ],
   "source": [
    "train_df.corr()['Survived']"
   ]
  },
  {
   "cell_type": "markdown",
   "metadata": {},
   "source": [
    "Linera Regression"
   ]
  },
  {
   "cell_type": "code",
   "execution_count": 103,
   "metadata": {},
   "outputs": [],
   "source": [
    "from sklearn.linear_model import LinearRegression\n",
    "from sklearn.cross_validation import KFold"
   ]
  },
  {
   "cell_type": "code",
   "execution_count": 109,
   "metadata": {},
   "outputs": [],
   "source": [
    "predictor_cols=(list(train_df.columns))"
   ]
  },
  {
   "cell_type": "code",
   "execution_count": 111,
   "metadata": {},
   "outputs": [],
   "source": [
    "predictor_cols.remove('Survived')"
   ]
  },
  {
   "cell_type": "code",
   "execution_count": 113,
   "metadata": {},
   "outputs": [],
   "source": [
    "target_col='Survived'"
   ]
  },
  {
   "cell_type": "code",
   "execution_count": 116,
   "metadata": {},
   "outputs": [],
   "source": [
    "alg=LinearRegression(n_jobs=-1)\n",
    "kfold=KFold(train_df.shape[0],n_folds=3,random_state=3)"
   ]
  },
  {
   "cell_type": "code",
   "execution_count": 115,
   "metadata": {},
   "outputs": [],
   "source": [
    "predictions=[]"
   ]
  },
  {
   "cell_type": "code",
   "execution_count": 119,
   "metadata": {},
   "outputs": [],
   "source": [
    "for train,test in kfold:\n",
    "    train_predictors=train_df[predictor_cols].iloc[train,:]\n",
    "    train_target=train_df[target_col].iloc[train]\n",
    "    alg.fit(train_predictors,train_target)\n",
    "    test_predictions=alg.predict(train_df[predictor_cols].iloc[test,:])\n",
    "    predictions.append(test_predictions)"
   ]
  },
  {
   "cell_type": "code",
   "execution_count": 126,
   "metadata": {},
   "outputs": [
    {
     "data": {
      "text/plain": [
       "(891,)"
      ]
     },
     "execution_count": 126,
     "metadata": {},
     "output_type": "execute_result"
    }
   ],
   "source": [
    "predictions.shape"
   ]
  },
  {
   "cell_type": "code",
   "execution_count": 127,
   "metadata": {},
   "outputs": [],
   "source": [
    "predictions[predictions > .5] = 1\n",
    "predictions[predictions <=.5] = 0"
   ]
  },
  {
   "cell_type": "code",
   "execution_count": 130,
   "metadata": {},
   "outputs": [],
   "source": [
    "from sklearn.metrics import accuracy_score"
   ]
  },
  {
   "cell_type": "code",
   "execution_count": 131,
   "metadata": {},
   "outputs": [
    {
     "data": {
      "text/plain": [
       "0.79685746352413023"
      ]
     },
     "execution_count": 131,
     "metadata": {},
     "output_type": "execute_result"
    }
   ],
   "source": [
    "accuracy_score(train_df['Survived'],predictions)"
   ]
  },
  {
   "cell_type": "markdown",
   "metadata": {},
   "source": [
    "Logistic Regression"
   ]
  },
  {
   "cell_type": "code",
   "execution_count": 133,
   "metadata": {},
   "outputs": [],
   "source": [
    "from sklearn.linear_model import LogisticRegression\n",
    "from sklearn.cross_validation import ShuffleSplit,cross_val_score"
   ]
  },
  {
   "cell_type": "code",
   "execution_count": 136,
   "metadata": {},
   "outputs": [],
   "source": [
    "lr=LogisticRegression(random_state=1)\n",
    "# Compute the accuracy score for all the cross validation folds.\n",
    "cv = ShuffleSplit(train_df.shape[0],n_iter=10, test_size=0.3, random_state=50)\n",
    "pred_score=cross_val_score(lr,train_df[predictor_cols],train_df[target_col],scoring='f1',cv=cv)"
   ]
  },
  {
   "cell_type": "code",
   "execution_count": 138,
   "metadata": {},
   "outputs": [
    {
     "data": {
      "text/plain": [
       "0.73648562547145158"
      ]
     },
     "execution_count": 138,
     "metadata": {},
     "output_type": "execute_result"
    }
   ],
   "source": [
    "pred_score.mean()"
   ]
  },
  {
   "cell_type": "markdown",
   "metadata": {},
   "source": [
    "Random Forest"
   ]
  },
  {
   "cell_type": "code",
   "execution_count": 139,
   "metadata": {},
   "outputs": [],
   "source": [
    "from sklearn.ensemble import RandomForestClassifier\n",
    "from sklearn.cross_validation import cross_val_predict"
   ]
  },
  {
   "cell_type": "code",
   "execution_count": 140,
   "metadata": {},
   "outputs": [
    {
     "data": {
      "text/plain": [
       "RandomForestClassifier(bootstrap=True, class_weight=None, criterion='gini',\n",
       "            max_depth=9, max_features='auto', max_leaf_nodes=None,\n",
       "            min_impurity_decrease=0.0, min_impurity_split=None,\n",
       "            min_samples_leaf=4, min_samples_split=6,\n",
       "            min_weight_fraction_leaf=0.0, n_estimators=50, n_jobs=1,\n",
       "            oob_score=False, random_state=1, verbose=0, warm_start=False)"
      ]
     },
     "execution_count": 140,
     "metadata": {},
     "output_type": "execute_result"
    }
   ],
   "source": [
    "rf=RandomForestClassifier(n_estimators=50,criterion='gini', max_depth=9,min_samples_split=6, min_samples_leaf=4,random_state=1)\n",
    "rf.fit(train_df[predictor_cols],train_df[target_col])"
   ]
  },
  {
   "cell_type": "code",
   "execution_count": 141,
   "metadata": {},
   "outputs": [
    {
     "name": "stdout",
     "output_type": "stream",
     "text": [
      "0.771524787217\n"
     ]
    }
   ],
   "source": [
    "cv=KFold(train_df.shape[0],n_folds=3,random_state=1)\n",
    "predictions=cross_val_predict(rf,train_df[predictor_cols],train_df[target_col],cv=cv,n_jobs=-1)\n",
    "scores=cross_val_score(rf,train_df[predictor_cols],train_df[target_col],cv=cv,n_jobs=-1,scoring='f1')\n",
    "accuracy=np.mean(scores)\n",
    "print(accuracy)"
   ]
  },
  {
   "cell_type": "code",
   "execution_count": 142,
   "metadata": {},
   "outputs": [
    {
     "data": {
      "text/plain": [
       "array([ 0.09488082,  0.30724419,  0.13153806,  0.16401661,  0.06988724,\n",
       "        0.02371297,  0.07101263,  0.13770749])"
      ]
     },
     "execution_count": 142,
     "metadata": {},
     "output_type": "execute_result"
    }
   ],
   "source": [
    "important_f=rf.feature_importances_\n",
    "important_f"
   ]
  },
  {
   "cell_type": "code",
   "execution_count": 143,
   "metadata": {},
   "outputs": [
    {
     "data": {
      "text/plain": [
       "['Pclass',\n",
       " 'Sex',\n",
       " 'Age',\n",
       " 'Fare',\n",
       " 'Cabin',\n",
       " 'Embarked',\n",
       " 'FamilyClass',\n",
       " 'Name_title']"
      ]
     },
     "execution_count": 143,
     "metadata": {},
     "output_type": "execute_result"
    }
   ],
   "source": [
    "predictor_cols"
   ]
  },
  {
   "cell_type": "code",
   "execution_count": 152,
   "metadata": {},
   "outputs": [],
   "source": [
    "#Return the indices of sorted values\n",
    "indices = np.argsort(important_f)[::-1]"
   ]
  },
  {
   "cell_type": "code",
   "execution_count": 153,
   "metadata": {},
   "outputs": [
    {
     "data": {
      "text/plain": [
       "array([1, 3, 7, 2, 0, 6, 4, 5], dtype=int64)"
      ]
     },
     "execution_count": 153,
     "metadata": {},
     "output_type": "execute_result"
    }
   ],
   "source": [
    "indices"
   ]
  },
  {
   "cell_type": "code",
   "execution_count": 159,
   "metadata": {},
   "outputs": [],
   "source": [
    "sorted_import_val=sorted(important_f,reverse=True)"
   ]
  },
  {
   "cell_type": "code",
   "execution_count": 160,
   "metadata": {},
   "outputs": [
    {
     "data": {
      "text/plain": [
       "[0.30724419095615668,\n",
       " 0.16401660743824262,\n",
       " 0.13770749145617772,\n",
       " 0.13153806112478023,\n",
       " 0.094880819062035965,\n",
       " 0.071012629054969731,\n",
       " 0.069887235513293233,\n",
       " 0.023712965394343876]"
      ]
     },
     "execution_count": 160,
     "metadata": {},
     "output_type": "execute_result"
    }
   ],
   "source": [
    "sorted_import_val"
   ]
  },
  {
   "cell_type": "code",
   "execution_count": 149,
   "metadata": {},
   "outputs": [],
   "source": [
    "std = np.std([rf.feature_importances_ for tree in rf.estimators_],\n",
    "             axis=0)"
   ]
  },
  {
   "cell_type": "code",
   "execution_count": 155,
   "metadata": {},
   "outputs": [],
   "source": [
    "sorted_important_features=[]\n",
    "for i in indices:\n",
    "    sorted_important_features.append(predictor_cols[i])"
   ]
  },
  {
   "cell_type": "code",
   "execution_count": 164,
   "metadata": {},
   "outputs": [
    {
     "data": {
      "text/plain": [
       "<matplotlib.axes._subplots.AxesSubplot at 0x1ba20f035f8>"
      ]
     },
     "execution_count": 164,
     "metadata": {},
     "output_type": "execute_result"
    },
    {
     "data": {
      "image/png": "[encoded data removed]",
      "text/plain": [
       "<Figure size 576x432 with 1 Axes>"
      ]
     },
     "metadata": {},
     "output_type": "display_data"
    }
   ],
   "source": [
    "plt.figure(figsize=(8,6))\n",
    "sns.barplot(x=sorted_important_features,y=sorted_import_val)"
   ]
  },
  {
   "cell_type": "code",
   "execution_count": 170,
   "metadata": {},
   "outputs": [
    {
     "name": "stdout",
     "output_type": "stream",
     "text": [
      "% of women who survived: 0.7420382165605095\n"
     ]
    }
   ],
   "source": [
    "women = train_df.loc[train_df.Sex == 0][\"Survived\"]\n",
    "rate_women = sum(women)/len(women)\n",
    "\n",
    "print(\"% of women who survived:\", rate_women)"
   ]
  },
  {
   "cell_type": "code",
   "execution_count": 171,
   "metadata": {},
   "outputs": [
    {
     "data": {
      "text/html": [
       "<div>\n",
       "<style scoped>\n",
       "    .dataframe tbody tr th:only-of-type {\n",
       "        vertical-align: middle;\n",
       "    }\n",
       "\n",
       "    .dataframe tbody tr th {\n",
       "        vertical-align: top;\n",
       "    }\n",
       "\n",
       "    .dataframe thead th {\n",
       "        text-align: right;\n",
       "    }\n",
       "</style>\n",
       "<table border=\"1\" class=\"dataframe\">\n",
       "  <thead>\n",
       "    <tr style=\"text-align: right;\">\n",
       "      <th></th>\n",
       "      <th>Pclass</th>\n",
       "      <th>Sex</th>\n",
       "      <th>Age</th>\n",
       "      <th>Fare</th>\n",
       "      <th>Cabin</th>\n",
       "      <th>Embarked</th>\n",
       "      <th>FamilyClass</th>\n",
       "      <th>Name_title</th>\n",
       "    </tr>\n",
       "  </thead>\n",
       "  <tbody>\n",
       "    <tr>\n",
       "      <th>0</th>\n",
       "      <td>3</td>\n",
       "      <td>1</td>\n",
       "      <td>34.5</td>\n",
       "      <td>7.8292</td>\n",
       "      <td>7</td>\n",
       "      <td>1</td>\n",
       "      <td>3</td>\n",
       "      <td>2</td>\n",
       "    </tr>\n",
       "    <tr>\n",
       "      <th>1</th>\n",
       "      <td>3</td>\n",
       "      <td>0</td>\n",
       "      <td>47.0</td>\n",
       "      <td>7.0000</td>\n",
       "      <td>7</td>\n",
       "      <td>2</td>\n",
       "      <td>2</td>\n",
       "      <td>3</td>\n",
       "    </tr>\n",
       "    <tr>\n",
       "      <th>2</th>\n",
       "      <td>2</td>\n",
       "      <td>1</td>\n",
       "      <td>62.0</td>\n",
       "      <td>9.6875</td>\n",
       "      <td>7</td>\n",
       "      <td>1</td>\n",
       "      <td>3</td>\n",
       "      <td>2</td>\n",
       "    </tr>\n",
       "    <tr>\n",
       "      <th>3</th>\n",
       "      <td>3</td>\n",
       "      <td>1</td>\n",
       "      <td>27.0</td>\n",
       "      <td>8.6625</td>\n",
       "      <td>7</td>\n",
       "      <td>2</td>\n",
       "      <td>3</td>\n",
       "      <td>2</td>\n",
       "    </tr>\n",
       "    <tr>\n",
       "      <th>4</th>\n",
       "      <td>3</td>\n",
       "      <td>0</td>\n",
       "      <td>22.0</td>\n",
       "      <td>12.2875</td>\n",
       "      <td>7</td>\n",
       "      <td>2</td>\n",
       "      <td>2</td>\n",
       "      <td>3</td>\n",
       "    </tr>\n",
       "  </tbody>\n",
       "</table>\n",
       "</div>"
      ],
      "text/plain": [
       "   Pclass  Sex   Age     Fare  Cabin  Embarked  FamilyClass  Name_title\n",
       "0       3    1  34.5   7.8292      7         1            3           2\n",
       "1       3    0  47.0   7.0000      7         2            2           3\n",
       "2       2    1  62.0   9.6875      7         1            3           2\n",
       "3       3    1  27.0   8.6625      7         2            3           2\n",
       "4       3    0  22.0  12.2875      7         2            2           3"
      ]
     },
     "execution_count": 171,
     "metadata": {},
     "output_type": "execute_result"
    }
   ],
   "source": [
    "test_df.head()"
   ]
  },
  {
   "cell_type": "code",
   "execution_count": 172,
   "metadata": {},
   "outputs": [
    {
     "data": {
      "text/plain": [
       "Pclass          3.0000\n",
       "Sex             1.0000\n",
       "Age            60.5000\n",
       "Fare            7.9875\n",
       "Cabin           7.0000\n",
       "Embarked        2.0000\n",
       "FamilyClass     3.0000\n",
       "Name_title      2.0000\n",
       "Name: 152, dtype: float64"
      ]
     },
     "execution_count": 172,
     "metadata": {},
     "output_type": "execute_result"
    }
   ],
   "source": [
    "test_df.loc[152]"
   ]
  },
  {
   "cell_type": "code",
   "execution_count": 197,
   "metadata": {},
   "outputs": [],
   "source": [
    "pred_linReg=alg.predict(test_df)"
   ]
  },
  {
   "cell_type": "code",
   "execution_count": 198,
   "metadata": {},
   "outputs": [],
   "source": [
    "result_df=pd.read_csv('gender_submission.csv')"
   ]
  },
  {
   "cell_type": "code",
   "execution_count": 199,
   "metadata": {},
   "outputs": [
    {
     "data": {
      "text/plain": [
       "0    0\n",
       "1    1\n",
       "2    0\n",
       "3    0\n",
       "4    1\n",
       "Name: Survived, dtype: int64"
      ]
     },
     "execution_count": 199,
     "metadata": {},
     "output_type": "execute_result"
    }
   ],
   "source": [
    "result_df.Survived.head()"
   ]
  },
  {
   "cell_type": "code",
   "execution_count": 200,
   "metadata": {},
   "outputs": [],
   "source": [
    "pred_linReg=pd.Series(pred_linReg)"
   ]
  },
  {
   "cell_type": "code",
   "execution_count": 201,
   "metadata": {},
   "outputs": [
    {
     "data": {
      "text/plain": [
       "0    0.111110\n",
       "1    0.461983\n",
       "2    0.099782\n",
       "3    0.135498\n",
       "4    0.613360\n",
       "dtype: float64"
      ]
     },
     "execution_count": 201,
     "metadata": {},
     "output_type": "execute_result"
    }
   ],
   "source": [
    "pred_linReg.head()"
   ]
  },
  {
   "cell_type": "code",
   "execution_count": 202,
   "metadata": {},
   "outputs": [],
   "source": [
    "pred_linReg[pred_linReg > .5] = 1\n",
    "pred_linReg[pred_linReg <=.5] = 0"
   ]
  },
  {
   "cell_type": "code",
   "execution_count": 187,
   "metadata": {},
   "outputs": [],
   "source": [
    "result_df=pd.DataFrame(np.column_stack((result_df.PassengerId,pred_linReg)),columns=[\"PassengerId\",\"Survived\"])\n",
    "#result_df=pd.DataFrame({'PassengerId': result_df.PassengerId, 'Survived': pred_linReg})"
   ]
  },
  {
   "cell_type": "code",
   "execution_count": 188,
   "metadata": {},
   "outputs": [
    {
     "data": {
      "text/html": [
       "<div>\n",
       "<style scoped>\n",
       "    .dataframe tbody tr th:only-of-type {\n",
       "        vertical-align: middle;\n",
       "    }\n",
       "\n",
       "    .dataframe tbody tr th {\n",
       "        vertical-align: top;\n",
       "    }\n",
       "\n",
       "    .dataframe thead th {\n",
       "        text-align: right;\n",
       "    }\n",
       "</style>\n",
       "<table border=\"1\" class=\"dataframe\">\n",
       "  <thead>\n",
       "    <tr style=\"text-align: right;\">\n",
       "      <th></th>\n",
       "      <th>PassengerId</th>\n",
       "      <th>Survived</th>\n",
       "    </tr>\n",
       "  </thead>\n",
       "  <tbody>\n",
       "    <tr>\n",
       "      <th>0</th>\n",
       "      <td>892.0</td>\n",
       "      <td>0.0</td>\n",
       "    </tr>\n",
       "    <tr>\n",
       "      <th>1</th>\n",
       "      <td>893.0</td>\n",
       "      <td>0.0</td>\n",
       "    </tr>\n",
       "    <tr>\n",
       "      <th>2</th>\n",
       "      <td>894.0</td>\n",
       "      <td>0.0</td>\n",
       "    </tr>\n",
       "    <tr>\n",
       "      <th>3</th>\n",
       "      <td>895.0</td>\n",
       "      <td>0.0</td>\n",
       "    </tr>\n",
       "    <tr>\n",
       "      <th>4</th>\n",
       "      <td>896.0</td>\n",
       "      <td>1.0</td>\n",
       "    </tr>\n",
       "  </tbody>\n",
       "</table>\n",
       "</div>"
      ],
      "text/plain": [
       "   PassengerId  Survived\n",
       "0        892.0       0.0\n",
       "1        893.0       0.0\n",
       "2        894.0       0.0\n",
       "3        895.0       0.0\n",
       "4        896.0       1.0"
      ]
     },
     "execution_count": 188,
     "metadata": {},
     "output_type": "execute_result"
    }
   ],
   "source": [
    "result_df.head()"
   ]
  },
  {
   "cell_type": "code",
   "execution_count": 191,
   "metadata": {},
   "outputs": [],
   "source": [
    "result_df['PassengerId']=np.int32(result_df['PassengerId'])\n",
    "result_df['Survived']=np.int32(result_df['Survived'])"
   ]
  },
  {
   "cell_type": "code",
   "execution_count": 193,
   "metadata": {},
   "outputs": [
    {
     "name": "stdout",
     "output_type": "stream",
     "text": [
      "<class 'pandas.core.frame.DataFrame'>\n",
      "RangeIndex: 418 entries, 0 to 417\n",
      "Data columns (total 2 columns):\n",
      "PassengerId    418 non-null int32\n",
      "Survived       418 non-null int32\n",
      "dtypes: int32(2)\n",
      "memory usage: 3.3 KB\n"
     ]
    }
   ],
   "source": [
    "result_df.info()"
   ]
  },
  {
   "cell_type": "code",
   "execution_count": 194,
   "metadata": {},
   "outputs": [],
   "source": [
    "result_df.to_csv('my_submission.csv', index=False)"
   ]
  },
  {
   "cell_type": "code",
   "execution_count": null,
   "metadata": {},
   "outputs": [],
   "source": []
  }
 ],
 "metadata": {
  "kernelspec": {
   "display_name": "Python 3",
   "language": "python",
   "name": "python3"
  },
  "language_info": {
   "codemirror_mode": {
    "name": "ipython",
    "version": 3
   },
   "file_extension": ".py",
   "mimetype": "text/x-python",
   "name": "python",
   "nbconvert_exporter": "python",
   "pygments_lexer": "ipython3",
   "version": "3.6.5"
  }
 },
 "nbformat": 4,
 "nbformat_minor": 2
}
